{
 "cells": [
  {
   "cell_type": "code",
   "execution_count": 4,
   "metadata": {
    "executionInfo": {
     "elapsed": 8405,
     "status": "ok",
     "timestamp": 1644491661577,
     "user": {
      "displayName": "enahoro elomena",
      "photoUrl": "https://lh3.googleusercontent.com/a-/AOh14Gh0U4QooGrK8rUieqJ-6hRIoY4h_p5gaYSFsJNSIQ=s64",
      "userId": "08032915123829835974"
     },
     "user_tz": -60
    },
    "id": "ntUTIsclLxls"
   },
   "outputs": [],
   "source": [
    "import pandas as pd\n",
    "import numpy as np\n",
    "from sklearn.model_selection import train_test_split\n",
    "#import tensorflow.keras as keras\n",
    "import matplotlib.pyplot as plt\n",
    "import seaborn as sns\n",
    "import librosa\n",
    "\n",
    "\n",
    "import pickle\n"
   ]
  },
  {
   "cell_type": "code",
   "execution_count": 2,
   "metadata": {},
   "outputs": [
    {
     "name": "stdout",
     "output_type": "stream",
     "text": [
      "Requirement already satisfied: tensorflow in c:\\users\\hp\\anaconda3\\lib\\site-packages (2.8.0)\n",
      "Requirement already satisfied: absl-py>=0.4.0 in c:\\users\\hp\\anaconda3\\lib\\site-packages (from tensorflow) (1.0.0)\n",
      "Requirement already satisfied: grpcio<2.0,>=1.24.3 in c:\\users\\hp\\anaconda3\\lib\\site-packages (from tensorflow) (1.43.0)\n",
      "Requirement already satisfied: keras-preprocessing>=1.1.1 in c:\\users\\hp\\anaconda3\\lib\\site-packages (from tensorflow) (1.1.2)\n",
      "Requirement already satisfied: wrapt>=1.11.0 in c:\\users\\hp\\anaconda3\\lib\\site-packages (from tensorflow) (1.12.1)\n",
      "Requirement already satisfied: keras<2.9,>=2.8.0rc0 in c:\\users\\hp\\anaconda3\\lib\\site-packages (from tensorflow) (2.8.0)\n",
      "Requirement already satisfied: tf-estimator-nightly==2.8.0.dev2021122109 in c:\\users\\hp\\anaconda3\\lib\\site-packages (from tensorflow) (2.8.0.dev2021122109)\n",
      "Requirement already satisfied: tensorflow-io-gcs-filesystem>=0.23.1 in c:\\users\\hp\\anaconda3\\lib\\site-packages (from tensorflow) (0.24.0)\n",
      "Requirement already satisfied: flatbuffers>=1.12 in c:\\users\\hp\\anaconda3\\lib\\site-packages (from tensorflow) (2.0)\n",
      "Requirement already satisfied: protobuf>=3.9.2 in c:\\users\\hp\\anaconda3\\lib\\site-packages (from tensorflow) (3.19.4)\n",
      "Requirement already satisfied: opt-einsum>=2.3.2 in c:\\users\\hp\\anaconda3\\lib\\site-packages (from tensorflow) (3.3.0)\n",
      "Requirement already satisfied: typing-extensions>=3.6.6 in c:\\users\\hp\\anaconda3\\lib\\site-packages (from tensorflow) (3.7.4.3)\n",
      "Requirement already satisfied: numpy>=1.20 in c:\\users\\hp\\anaconda3\\lib\\site-packages (from tensorflow) (1.20.1)\n",
      "Requirement already satisfied: termcolor>=1.1.0 in c:\\users\\hp\\anaconda3\\lib\\site-packages (from tensorflow) (1.1.0)\n",
      "Requirement already satisfied: tensorboard<2.9,>=2.8 in c:\\users\\hp\\anaconda3\\lib\\site-packages (from tensorflow) (2.8.0)\n",
      "Requirement already satisfied: astunparse>=1.6.0 in c:\\users\\hp\\anaconda3\\lib\\site-packages (from tensorflow) (1.6.3)\n",
      "Requirement already satisfied: libclang>=9.0.1 in c:\\users\\hp\\anaconda3\\lib\\site-packages (from tensorflow) (13.0.0)\n",
      "Requirement already satisfied: gast>=0.2.1 in c:\\users\\hp\\anaconda3\\lib\\site-packages (from tensorflow) (0.5.3)\n",
      "Requirement already satisfied: six>=1.12.0 in c:\\users\\hp\\anaconda3\\lib\\site-packages (from tensorflow) (1.15.0)\n",
      "Requirement already satisfied: setuptools in c:\\users\\hp\\anaconda3\\lib\\site-packages (from tensorflow) (52.0.0.post20210125)\n",
      "Requirement already satisfied: google-pasta>=0.1.1 in c:\\users\\hp\\anaconda3\\lib\\site-packages (from tensorflow) (0.2.0)\n",
      "Requirement already satisfied: h5py>=2.9.0 in c:\\users\\hp\\anaconda3\\lib\\site-packages (from tensorflow) (2.10.0)\n",
      "Requirement already satisfied: wheel<1.0,>=0.23.0 in c:\\users\\hp\\anaconda3\\lib\\site-packages (from astunparse>=1.6.0->tensorflow) (0.36.2)\n",
      "Requirement already satisfied: google-auth<3,>=1.6.3 in c:\\users\\hp\\anaconda3\\lib\\site-packages (from tensorboard<2.9,>=2.8->tensorflow) (2.6.0)\n",
      "Requirement already satisfied: google-auth-oauthlib<0.5,>=0.4.1 in c:\\users\\hp\\anaconda3\\lib\\site-packages (from tensorboard<2.9,>=2.8->tensorflow) (0.4.6)\n",
      "Requirement already satisfied: tensorboard-plugin-wit>=1.6.0 in c:\\users\\hp\\anaconda3\\lib\\site-packages (from tensorboard<2.9,>=2.8->tensorflow) (1.8.1)\n",
      "Requirement already satisfied: requests<3,>=2.21.0 in c:\\users\\hp\\anaconda3\\lib\\site-packages (from tensorboard<2.9,>=2.8->tensorflow) (2.25.1)\n",
      "Requirement already satisfied: werkzeug>=0.11.15 in c:\\users\\hp\\anaconda3\\lib\\site-packages (from tensorboard<2.9,>=2.8->tensorflow) (1.0.1)\n",
      "Requirement already satisfied: markdown>=2.6.8 in c:\\users\\hp\\anaconda3\\lib\\site-packages (from tensorboard<2.9,>=2.8->tensorflow) (3.3.6)\n",
      "Requirement already satisfied: tensorboard-data-server<0.7.0,>=0.6.0 in c:\\users\\hp\\anaconda3\\lib\\site-packages (from tensorboard<2.9,>=2.8->tensorflow) (0.6.1)\n",
      "Requirement already satisfied: cachetools<6.0,>=2.0.0 in c:\\users\\hp\\anaconda3\\lib\\site-packages (from google-auth<3,>=1.6.3->tensorboard<2.9,>=2.8->tensorflow) (5.0.0)\n",
      "Requirement already satisfied: pyasn1-modules>=0.2.1 in c:\\users\\hp\\anaconda3\\lib\\site-packages (from google-auth<3,>=1.6.3->tensorboard<2.9,>=2.8->tensorflow) (0.2.8)\n",
      "Requirement already satisfied: rsa<5,>=3.1.4 in c:\\users\\hp\\anaconda3\\lib\\site-packages (from google-auth<3,>=1.6.3->tensorboard<2.9,>=2.8->tensorflow) (4.8)\n",
      "Requirement already satisfied: requests-oauthlib>=0.7.0 in c:\\users\\hp\\anaconda3\\lib\\site-packages (from google-auth-oauthlib<0.5,>=0.4.1->tensorboard<2.9,>=2.8->tensorflow) (1.3.1)\n",
      "Requirement already satisfied: importlib-metadata>=4.4 in c:\\users\\hp\\anaconda3\\lib\\site-packages (from markdown>=2.6.8->tensorboard<2.9,>=2.8->tensorflow) (4.10.1)\n",
      "Requirement already satisfied: zipp>=0.5 in c:\\users\\hp\\anaconda3\\lib\\site-packages (from importlib-metadata>=4.4->markdown>=2.6.8->tensorboard<2.9,>=2.8->tensorflow) (3.4.1)\n",
      "Requirement already satisfied: pyasn1<0.5.0,>=0.4.6 in c:\\users\\hp\\anaconda3\\lib\\site-packages (from pyasn1-modules>=0.2.1->google-auth<3,>=1.6.3->tensorboard<2.9,>=2.8->tensorflow) (0.4.8)\n",
      "Requirement already satisfied: idna<3,>=2.5 in c:\\users\\hp\\anaconda3\\lib\\site-packages (from requests<3,>=2.21.0->tensorboard<2.9,>=2.8->tensorflow) (2.10)\n",
      "Requirement already satisfied: certifi>=2017.4.17 in c:\\users\\hp\\anaconda3\\lib\\site-packages (from requests<3,>=2.21.0->tensorboard<2.9,>=2.8->tensorflow) (2020.12.5)\n",
      "Requirement already satisfied: urllib3<1.27,>=1.21.1 in c:\\users\\hp\\anaconda3\\lib\\site-packages (from requests<3,>=2.21.0->tensorboard<2.9,>=2.8->tensorflow) (1.26.4)\n",
      "Requirement already satisfied: chardet<5,>=3.0.2 in c:\\users\\hp\\anaconda3\\lib\\site-packages (from requests<3,>=2.21.0->tensorboard<2.9,>=2.8->tensorflow) (4.0.0)\n",
      "Requirement already satisfied: oauthlib>=3.0.0 in c:\\users\\hp\\anaconda3\\lib\\site-packages (from requests-oauthlib>=0.7.0->google-auth-oauthlib<0.5,>=0.4.1->tensorboard<2.9,>=2.8->tensorflow) (3.2.0)\n",
      "Note: you may need to restart the kernel to use updated packages.\n"
     ]
    }
   ],
   "source": [
    "pip install tensorflow"
   ]
  },
  {
   "cell_type": "code",
   "execution_count": null,
   "metadata": {},
   "outputs": [],
   "source": [
    "conda install -c conda-forge librosa\n"
   ]
  },
  {
   "cell_type": "code",
   "execution_count": null,
   "metadata": {},
   "outputs": [],
   "source": [
    "conda install keras\n"
   ]
  },
  {
   "cell_type": "code",
   "execution_count": null,
   "metadata": {
    "executionInfo": {
     "elapsed": 312,
     "status": "ok",
     "timestamp": 1644491689776,
     "user": {
      "displayName": "enahoro elomena",
      "photoUrl": "https://lh3.googleusercontent.com/a-/AOh14Gh0U4QooGrK8rUieqJ-6hRIoY4h_p5gaYSFsJNSIQ=s64",
      "userId": "08032915123829835974"
     },
     "user_tz": -60
    },
    "id": "IUDc-TOLV8Fe"
   },
   "outputs": [],
   "source": [
    "from sklearn.preprocessing import StandardScaler\n"
   ]
  },
  {
   "cell_type": "markdown",
   "metadata": {
    "id": "IwDgOQTpQsNQ"
   },
   "source": [
    "**Importing the dataset**"
   ]
  },
  {
   "cell_type": "code",
   "execution_count": 5,
   "metadata": {
    "colab": {
     "base_uri": "https://localhost:8080/",
     "height": 226
    },
    "executionInfo": {
     "elapsed": 1367,
     "status": "ok",
     "timestamp": 1632445684617,
     "user": {
      "displayName": "enahoro elomena",
      "photoUrl": "https://lh3.googleusercontent.com/a-/AOh14Gh0U4QooGrK8rUieqJ-6hRIoY4h_p5gaYSFsJNSIQ=s64",
      "userId": "08032915123829835974"
     },
     "user_tz": -60
    },
    "id": "XAZ3Qpt9QB_V",
    "outputId": "27ebbbb6-933a-4ebf-dd45-d3b8b34a406f"
   },
   "outputs": [
    {
     "data": {
      "text/html": [
       "<div>\n",
       "<style scoped>\n",
       "    .dataframe tbody tr th:only-of-type {\n",
       "        vertical-align: middle;\n",
       "    }\n",
       "\n",
       "    .dataframe tbody tr th {\n",
       "        vertical-align: top;\n",
       "    }\n",
       "\n",
       "    .dataframe thead th {\n",
       "        text-align: right;\n",
       "    }\n",
       "</style>\n",
       "<table border=\"1\" class=\"dataframe\">\n",
       "  <thead>\n",
       "    <tr style=\"text-align: right;\">\n",
       "      <th></th>\n",
       "      <th>filename</th>\n",
       "      <th>chroma_stft_mean</th>\n",
       "      <th>chroma_stft_var</th>\n",
       "      <th>chroma_stft_std</th>\n",
       "      <th>rms_mean</th>\n",
       "      <th>rms_var</th>\n",
       "      <th>rms_std</th>\n",
       "      <th>spec_cent_mean</th>\n",
       "      <th>spec_cent_var</th>\n",
       "      <th>spec_cent_std</th>\n",
       "      <th>...</th>\n",
       "      <th>mfcc7_var</th>\n",
       "      <th>mfcc8_mean</th>\n",
       "      <th>mfcc8_var</th>\n",
       "      <th>mfcc9_mean</th>\n",
       "      <th>mfcc9_var</th>\n",
       "      <th>mfcc10_mean</th>\n",
       "      <th>mfcc10_var</th>\n",
       "      <th>mfcc20_mean</th>\n",
       "      <th>mfcc20_var</th>\n",
       "      <th>label</th>\n",
       "    </tr>\n",
       "  </thead>\n",
       "  <tbody>\n",
       "    <tr>\n",
       "      <th>0</th>\n",
       "      <td>jazz.00000.wav</td>\n",
       "      <td>0.344568</td>\n",
       "      <td>0.085005</td>\n",
       "      <td>0.291555</td>\n",
       "      <td>0.046768</td>\n",
       "      <td>0.001543</td>\n",
       "      <td>0.039282</td>\n",
       "      <td>1504.404759</td>\n",
       "      <td>554635.808130</td>\n",
       "      <td>744.738752</td>\n",
       "      <td>...</td>\n",
       "      <td>13629.358398</td>\n",
       "      <td>-15.305121</td>\n",
       "      <td>11948.286133</td>\n",
       "      <td>-14.216819</td>\n",
       "      <td>10635.010742</td>\n",
       "      <td>-13.059530</td>\n",
       "      <td>9587.314453</td>\n",
       "      <td>-7.565382</td>\n",
       "      <td>4848.609375</td>\n",
       "      <td>jazz</td>\n",
       "    </tr>\n",
       "    <tr>\n",
       "      <th>1</th>\n",
       "      <td>jazz.00001.wav</td>\n",
       "      <td>0.328119</td>\n",
       "      <td>0.086557</td>\n",
       "      <td>0.294205</td>\n",
       "      <td>0.022799</td>\n",
       "      <td>0.000239</td>\n",
       "      <td>0.015458</td>\n",
       "      <td>1266.405832</td>\n",
       "      <td>302044.132694</td>\n",
       "      <td>549.585419</td>\n",
       "      <td>...</td>\n",
       "      <td>21481.707031</td>\n",
       "      <td>-20.291924</td>\n",
       "      <td>18852.916016</td>\n",
       "      <td>-18.716410</td>\n",
       "      <td>16783.228516</td>\n",
       "      <td>-16.895838</td>\n",
       "      <td>15139.578125</td>\n",
       "      <td>-9.786606</td>\n",
       "      <td>7651.382812</td>\n",
       "      <td>jazz</td>\n",
       "    </tr>\n",
       "    <tr>\n",
       "      <th>2</th>\n",
       "      <td>jazz.00002.wav</td>\n",
       "      <td>0.267640</td>\n",
       "      <td>0.083949</td>\n",
       "      <td>0.289740</td>\n",
       "      <td>0.080840</td>\n",
       "      <td>0.000992</td>\n",
       "      <td>0.031501</td>\n",
       "      <td>1064.810564</td>\n",
       "      <td>161183.061715</td>\n",
       "      <td>401.476104</td>\n",
       "      <td>...</td>\n",
       "      <td>15309.901367</td>\n",
       "      <td>-15.724295</td>\n",
       "      <td>13411.498047</td>\n",
       "      <td>-14.432638</td>\n",
       "      <td>11944.249023</td>\n",
       "      <td>-13.819036</td>\n",
       "      <td>10763.847656</td>\n",
       "      <td>-11.730761</td>\n",
       "      <td>5429.986328</td>\n",
       "      <td>jazz</td>\n",
       "    </tr>\n",
       "    <tr>\n",
       "      <th>3</th>\n",
       "      <td>jazz.00003.wav</td>\n",
       "      <td>0.319313</td>\n",
       "      <td>0.081005</td>\n",
       "      <td>0.284614</td>\n",
       "      <td>0.059496</td>\n",
       "      <td>0.001298</td>\n",
       "      <td>0.036026</td>\n",
       "      <td>813.293729</td>\n",
       "      <td>92950.399709</td>\n",
       "      <td>304.877680</td>\n",
       "      <td>...</td>\n",
       "      <td>19610.082031</td>\n",
       "      <td>-10.594538</td>\n",
       "      <td>17201.939453</td>\n",
       "      <td>-10.016613</td>\n",
       "      <td>15303.092773</td>\n",
       "      <td>-9.301682</td>\n",
       "      <td>13786.375000</td>\n",
       "      <td>-5.560663</td>\n",
       "      <td>6943.207031</td>\n",
       "      <td>jazz</td>\n",
       "    </tr>\n",
       "    <tr>\n",
       "      <th>4</th>\n",
       "      <td>jazz.00004.wav</td>\n",
       "      <td>0.171782</td>\n",
       "      <td>0.082596</td>\n",
       "      <td>0.287395</td>\n",
       "      <td>0.108786</td>\n",
       "      <td>0.002178</td>\n",
       "      <td>0.046674</td>\n",
       "      <td>1039.623420</td>\n",
       "      <td>122521.889902</td>\n",
       "      <td>350.031270</td>\n",
       "      <td>...</td>\n",
       "      <td>13896.684570</td>\n",
       "      <td>-10.144088</td>\n",
       "      <td>12214.771484</td>\n",
       "      <td>-9.704555</td>\n",
       "      <td>10864.779297</td>\n",
       "      <td>-8.187305</td>\n",
       "      <td>9804.301758</td>\n",
       "      <td>-4.459225</td>\n",
       "      <td>5015.025391</td>\n",
       "      <td>jazz</td>\n",
       "    </tr>\n",
       "  </tbody>\n",
       "</table>\n",
       "<p>5 rows × 52 columns</p>\n",
       "</div>"
      ],
      "text/plain": [
       "         filename  chroma_stft_mean  chroma_stft_var  chroma_stft_std  \\\n",
       "0  jazz.00000.wav          0.344568         0.085005         0.291555   \n",
       "1  jazz.00001.wav          0.328119         0.086557         0.294205   \n",
       "2  jazz.00002.wav          0.267640         0.083949         0.289740   \n",
       "3  jazz.00003.wav          0.319313         0.081005         0.284614   \n",
       "4  jazz.00004.wav          0.171782         0.082596         0.287395   \n",
       "\n",
       "   rms_mean   rms_var   rms_std  spec_cent_mean  spec_cent_var  spec_cent_std  \\\n",
       "0  0.046768  0.001543  0.039282     1504.404759  554635.808130     744.738752   \n",
       "1  0.022799  0.000239  0.015458     1266.405832  302044.132694     549.585419   \n",
       "2  0.080840  0.000992  0.031501     1064.810564  161183.061715     401.476104   \n",
       "3  0.059496  0.001298  0.036026      813.293729   92950.399709     304.877680   \n",
       "4  0.108786  0.002178  0.046674     1039.623420  122521.889902     350.031270   \n",
       "\n",
       "   ...     mfcc7_var  mfcc8_mean     mfcc8_var  mfcc9_mean     mfcc9_var  \\\n",
       "0  ...  13629.358398  -15.305121  11948.286133  -14.216819  10635.010742   \n",
       "1  ...  21481.707031  -20.291924  18852.916016  -18.716410  16783.228516   \n",
       "2  ...  15309.901367  -15.724295  13411.498047  -14.432638  11944.249023   \n",
       "3  ...  19610.082031  -10.594538  17201.939453  -10.016613  15303.092773   \n",
       "4  ...  13896.684570  -10.144088  12214.771484   -9.704555  10864.779297   \n",
       "\n",
       "   mfcc10_mean    mfcc10_var  mfcc20_mean   mfcc20_var  label  \n",
       "0   -13.059530   9587.314453    -7.565382  4848.609375   jazz  \n",
       "1   -16.895838  15139.578125    -9.786606  7651.382812   jazz  \n",
       "2   -13.819036  10763.847656   -11.730761  5429.986328   jazz  \n",
       "3    -9.301682  13786.375000    -5.560663  6943.207031   jazz  \n",
       "4    -8.187305   9804.301758    -4.459225  5015.025391   jazz  \n",
       "\n",
       "[5 rows x 52 columns]"
      ]
     },
     "execution_count": 5,
     "metadata": {},
     "output_type": "execute_result"
    }
   ],
   "source": [
    "data = pd.read_csv('music_data.csv', index_col=0)\n",
    "data.head()"
   ]
  },
  {
   "cell_type": "code",
   "execution_count": 6,
   "metadata": {
    "colab": {
     "base_uri": "https://localhost:8080/"
    },
    "executionInfo": {
     "elapsed": 41,
     "status": "ok",
     "timestamp": 1632445684618,
     "user": {
      "displayName": "enahoro elomena",
      "photoUrl": "https://lh3.googleusercontent.com/a-/AOh14Gh0U4QooGrK8rUieqJ-6hRIoY4h_p5gaYSFsJNSIQ=s64",
      "userId": "08032915123829835974"
     },
     "user_tz": -60
    },
    "id": "simB-QFZQkyp",
    "outputId": "2eb66afb-a657-4ff5-b763-1fc209885c36"
   },
   "outputs": [
    {
     "data": {
      "text/plain": [
       "(999, 52)"
      ]
     },
     "execution_count": 6,
     "metadata": {},
     "output_type": "execute_result"
    }
   ],
   "source": [
    "data.shape"
   ]
  },
  {
   "cell_type": "code",
   "execution_count": 7,
   "metadata": {
    "colab": {
     "base_uri": "https://localhost:8080/"
    },
    "executionInfo": {
     "elapsed": 39,
     "status": "ok",
     "timestamp": 1632445684622,
     "user": {
      "displayName": "enahoro elomena",
      "photoUrl": "https://lh3.googleusercontent.com/a-/AOh14Gh0U4QooGrK8rUieqJ-6hRIoY4h_p5gaYSFsJNSIQ=s64",
      "userId": "08032915123829835974"
     },
     "user_tz": -60
    },
    "id": "_key_bviQZsJ",
    "outputId": "13cfaea6-4224-4ceb-d715-6b81bfb7985b"
   },
   "outputs": [
    {
     "name": "stdout",
     "output_type": "stream",
     "text": [
      "<class 'pandas.core.frame.DataFrame'>\n",
      "Int64Index: 999 entries, 0 to 998\n",
      "Data columns (total 52 columns):\n",
      " #   Column            Non-Null Count  Dtype  \n",
      "---  ------            --------------  -----  \n",
      " 0   filename          999 non-null    object \n",
      " 1   chroma_stft_mean  999 non-null    float64\n",
      " 2   chroma_stft_var   999 non-null    float64\n",
      " 3   chroma_stft_std   999 non-null    float64\n",
      " 4   rms_mean          999 non-null    float64\n",
      " 5   rms_var           999 non-null    float64\n",
      " 6   rms_std           999 non-null    float64\n",
      " 7   spec_cent_mean    999 non-null    float64\n",
      " 8   spec_cent_var     999 non-null    float64\n",
      " 9   spec_cent_std     999 non-null    float64\n",
      " 10  spec_ban_mean     999 non-null    float64\n",
      " 11  spec_ban_var      999 non-null    float64\n",
      " 12  spec_ban_std      999 non-null    float64\n",
      " 13  spec_cons_mean    999 non-null    float64\n",
      " 14  spec_cons_var     999 non-null    float64\n",
      " 15  spec_cons_std     999 non-null    float64\n",
      " 16  spec_flat_mean    999 non-null    float64\n",
      " 17  spec_flat_var     999 non-null    float64\n",
      " 18  spec_flat_std     999 non-null    float64\n",
      " 19  spec_roll_mean    999 non-null    float64\n",
      " 20  spec_roll_var     999 non-null    float64\n",
      " 21  spec_roll_std     999 non-null    float64\n",
      " 22  zero_cros_mean    999 non-null    float64\n",
      " 23  zero_cros_var     999 non-null    float64\n",
      " 24  zero_cros_std     999 non-null    float64\n",
      " 25  Tempo             999 non-null    float64\n",
      " 26  Beat_mean         999 non-null    float64\n",
      " 27  Beat_var          999 non-null    float64\n",
      " 28  Beat_std          999 non-null    float64\n",
      " 29  mfcc1_mean        999 non-null    float64\n",
      " 30  mfcc1_var         999 non-null    float64\n",
      " 31  mfcc2_mean        999 non-null    float64\n",
      " 32  mfcc2_var         999 non-null    float64\n",
      " 33  mfcc3_mean        999 non-null    float64\n",
      " 34  mfcc3_var         999 non-null    float64\n",
      " 35  mfcc4_mean        999 non-null    float64\n",
      " 36  mfcc4_var         999 non-null    float64\n",
      " 37  mfcc5_mean        999 non-null    float64\n",
      " 38  mfcc5_var         999 non-null    float64\n",
      " 39  mfcc6_mean        999 non-null    float64\n",
      " 40  mfcc6_var         999 non-null    float64\n",
      " 41  mfcc7_mean        999 non-null    float64\n",
      " 42  mfcc7_var         999 non-null    float64\n",
      " 43  mfcc8_mean        999 non-null    float64\n",
      " 44  mfcc8_var         999 non-null    float64\n",
      " 45  mfcc9_mean        999 non-null    float64\n",
      " 46  mfcc9_var         999 non-null    float64\n",
      " 47  mfcc10_mean       999 non-null    float64\n",
      " 48  mfcc10_var        999 non-null    float64\n",
      " 49  mfcc20_mean       999 non-null    float64\n",
      " 50  mfcc20_var        999 non-null    float64\n",
      " 51  label             999 non-null    object \n",
      "dtypes: float64(50), object(2)\n",
      "memory usage: 413.6+ KB\n"
     ]
    }
   ],
   "source": [
    "data.info()"
   ]
  },
  {
   "cell_type": "markdown",
   "metadata": {
    "id": "DKbbimrcQflj"
   },
   "source": [
    "**Checking for missing values**"
   ]
  },
  {
   "cell_type": "code",
   "execution_count": 8,
   "metadata": {
    "colab": {
     "base_uri": "https://localhost:8080/",
     "height": 69
    },
    "executionInfo": {
     "elapsed": 35,
     "status": "ok",
     "timestamp": 1632445684626,
     "user": {
      "displayName": "enahoro elomena",
      "photoUrl": "https://lh3.googleusercontent.com/a-/AOh14Gh0U4QooGrK8rUieqJ-6hRIoY4h_p5gaYSFsJNSIQ=s64",
      "userId": "08032915123829835974"
     },
     "user_tz": -60
    },
    "id": "n-Bm7TQwQTbJ",
    "outputId": "bf9496a2-0642-4f20-d146-3cd61afd5ec8"
   },
   "outputs": [
    {
     "data": {
      "text/html": [
       "<div>\n",
       "<style scoped>\n",
       "    .dataframe tbody tr th:only-of-type {\n",
       "        vertical-align: middle;\n",
       "    }\n",
       "\n",
       "    .dataframe tbody tr th {\n",
       "        vertical-align: top;\n",
       "    }\n",
       "\n",
       "    .dataframe thead th {\n",
       "        text-align: right;\n",
       "    }\n",
       "</style>\n",
       "<table border=\"1\" class=\"dataframe\">\n",
       "  <thead>\n",
       "    <tr style=\"text-align: right;\">\n",
       "      <th></th>\n",
       "      <th>filename</th>\n",
       "      <th>chroma_stft_mean</th>\n",
       "      <th>chroma_stft_var</th>\n",
       "      <th>chroma_stft_std</th>\n",
       "      <th>rms_mean</th>\n",
       "      <th>rms_var</th>\n",
       "      <th>rms_std</th>\n",
       "      <th>spec_cent_mean</th>\n",
       "      <th>spec_cent_var</th>\n",
       "      <th>spec_cent_std</th>\n",
       "      <th>...</th>\n",
       "      <th>mfcc7_var</th>\n",
       "      <th>mfcc8_mean</th>\n",
       "      <th>mfcc8_var</th>\n",
       "      <th>mfcc9_mean</th>\n",
       "      <th>mfcc9_var</th>\n",
       "      <th>mfcc10_mean</th>\n",
       "      <th>mfcc10_var</th>\n",
       "      <th>mfcc20_mean</th>\n",
       "      <th>mfcc20_var</th>\n",
       "      <th>label</th>\n",
       "    </tr>\n",
       "  </thead>\n",
       "  <tbody>\n",
       "  </tbody>\n",
       "</table>\n",
       "<p>0 rows × 52 columns</p>\n",
       "</div>"
      ],
      "text/plain": [
       "Empty DataFrame\n",
       "Columns: [filename, chroma_stft_mean, chroma_stft_var, chroma_stft_std, rms_mean, rms_var, rms_std, spec_cent_mean, spec_cent_var, spec_cent_std, spec_ban_mean, spec_ban_var, spec_ban_std, spec_cons_mean, spec_cons_var, spec_cons_std, spec_flat_mean, spec_flat_var, spec_flat_std, spec_roll_mean, spec_roll_var, spec_roll_std, zero_cros_mean, zero_cros_var, zero_cros_std, Tempo, Beat_mean, Beat_var, Beat_std, mfcc1_mean, mfcc1_var, mfcc2_mean, mfcc2_var, mfcc3_mean, mfcc3_var, mfcc4_mean, mfcc4_var, mfcc5_mean, mfcc5_var, mfcc6_mean, mfcc6_var, mfcc7_mean, mfcc7_var, mfcc8_mean, mfcc8_var, mfcc9_mean, mfcc9_var, mfcc10_mean, mfcc10_var, mfcc20_mean, mfcc20_var, label]\n",
       "Index: []\n",
       "\n",
       "[0 rows x 52 columns]"
      ]
     },
     "execution_count": 8,
     "metadata": {},
     "output_type": "execute_result"
    }
   ],
   "source": [
    "data[data.isnull().any(axis=1)]\n"
   ]
  },
  {
   "cell_type": "code",
   "execution_count": 9,
   "metadata": {
    "colab": {
     "base_uri": "https://localhost:8080/",
     "height": 801
    },
    "executionInfo": {
     "elapsed": 142,
     "status": "ok",
     "timestamp": 1632445686186,
     "user": {
      "displayName": "enahoro elomena",
      "photoUrl": "https://lh3.googleusercontent.com/a-/AOh14Gh0U4QooGrK8rUieqJ-6hRIoY4h_p5gaYSFsJNSIQ=s64",
      "userId": "08032915123829835974"
     },
     "user_tz": -60
    },
    "id": "PnAJGla-U-Ja",
    "outputId": "dddf7b15-e385-4c33-d742-310012f6c231"
   },
   "outputs": [
    {
     "name": "stderr",
     "output_type": "stream",
     "text": [
      "<ipython-input-9-146e253d368b>:6: DeprecationWarning: `np.bool` is a deprecated alias for the builtin `bool`. To silence this warning, use `bool` by itself. Doing this will not modify any behavior and is safe. If you specifically wanted the numpy scalar type, use `np.bool_` here.\n",
      "Deprecated in NumPy 1.20; for more details and guidance: https://numpy.org/devdocs/release/1.20.0-notes.html#deprecations\n",
      "  mask = np.triu(np.ones_like(corr, dtype=np.bool))\n"
     ]
    },
    {
     "data": {
      "text/plain": [
       "(array([ 0.5,  1.5,  2.5,  3.5,  4.5,  5.5,  6.5,  7.5,  8.5,  9.5, 10.5,\n",
       "        11.5, 12.5, 13.5, 14.5, 15.5, 16.5, 17.5, 18.5, 19.5]),\n",
       " [Text(0, 0.5, 'chroma_stft_mean'),\n",
       "  Text(0, 1.5, 'rms_mean'),\n",
       "  Text(0, 2.5, 'spec_cent_mean'),\n",
       "  Text(0, 3.5, 'spec_ban_mean'),\n",
       "  Text(0, 4.5, 'spec_cons_mean'),\n",
       "  Text(0, 5.5, 'spec_flat_mean'),\n",
       "  Text(0, 6.5, 'spec_roll_mean'),\n",
       "  Text(0, 7.5, 'zero_cros_mean'),\n",
       "  Text(0, 8.5, 'Beat_mean'),\n",
       "  Text(0, 9.5, 'mfcc1_mean'),\n",
       "  Text(0, 10.5, 'mfcc2_mean'),\n",
       "  Text(0, 11.5, 'mfcc3_mean'),\n",
       "  Text(0, 12.5, 'mfcc4_mean'),\n",
       "  Text(0, 13.5, 'mfcc5_mean'),\n",
       "  Text(0, 14.5, 'mfcc6_mean'),\n",
       "  Text(0, 15.5, 'mfcc7_mean'),\n",
       "  Text(0, 16.5, 'mfcc8_mean'),\n",
       "  Text(0, 17.5, 'mfcc9_mean'),\n",
       "  Text(0, 18.5, 'mfcc10_mean'),\n",
       "  Text(0, 19.5, 'mfcc20_mean')])"
      ]
     },
     "execution_count": 9,
     "metadata": {},
     "output_type": "execute_result"
    },
    {
     "data": {
      "image/png": "[encoded data removed]",
      "text/plain": [
       "<Figure size 1152x792 with 2 Axes>"
      ]
     },
     "metadata": {
      "needs_background": "light"
     },
     "output_type": "display_data"
    }
   ],
   "source": [
    "# Computing the Correlation Matrix\n",
    "spike_cols = [col for col in data.columns if 'mean' in col]\n",
    "corr = data[spike_cols].corr()\n",
    "\n",
    "# Generate a mask for the upper triangle\n",
    "mask = np.triu(np.ones_like(corr, dtype=np.bool))\n",
    "\n",
    "# Set up the matplotlib figure\n",
    "f, ax = plt.subplots(figsize=(16, 11));\n",
    "\n",
    "# Generate a custom diverging colormap\n",
    "cmap = sns.diverging_palette(0, 25, as_cmap=True, s = 90, l = 45, n = 5)\n",
    "\n",
    "# Draw the heatmap with the mask and correct aspect ratio\n",
    "sns.heatmap(corr, mask=mask, cmap=cmap, vmax=.3, center=0,\n",
    "            square=True, linewidths=.5, cbar_kws={\"shrink\": .5})\n",
    "\n",
    "plt.title('Correlation Heatmap (for the MEAN variables)', fontsize = 20)\n",
    "plt.xticks(fontsize = 10)\n",
    "plt.yticks(fontsize = 10)"
   ]
  },
  {
   "cell_type": "code",
   "execution_count": 10,
   "metadata": {
    "colab": {
     "base_uri": "https://localhost:8080/",
     "height": 476
    },
    "executionInfo": {
     "elapsed": 26,
     "status": "ok",
     "timestamp": 1632445686190,
     "user": {
      "displayName": "enahoro elomena",
      "photoUrl": "https://lh3.googleusercontent.com/a-/AOh14Gh0U4QooGrK8rUieqJ-6hRIoY4h_p5gaYSFsJNSIQ=s64",
      "userId": "08032915123829835974"
     },
     "user_tz": -60
    },
    "id": "FXYDMqe2VYqJ",
    "outputId": "f4724cb4-988e-4cdd-f9df-750fe19edf04"
   },
   "outputs": [
    {
     "data": {
      "image/png": "[encoded data removed]",
      "text/plain": [
       "<Figure size 1152x576 with 1 Axes>"
      ]
     },
     "metadata": {
      "needs_background": "light"
     },
     "output_type": "display_data"
    }
   ],
   "source": [
    "x = data[[\"label\", \"Tempo\"]]\n",
    "\n",
    "fig, ax = plt.subplots(figsize=(16, 8));\n",
    "sns.boxplot(x = \"label\", y = \"Tempo\", data = x, palette = 'husl');\n",
    "\n",
    "plt.title('BPM Boxplot for Genres', fontsize = 20)\n",
    "plt.xticks(fontsize = 14)\n",
    "plt.yticks(fontsize = 10);\n",
    "plt.xlabel(\"Genre\", fontsize = 15)\n",
    "plt.ylabel(\"BPM\", fontsize = 15)\n",
    "plt.savefig(\"BPM_Boxplot.png\")"
   ]
  },
  {
   "cell_type": "markdown",
   "metadata": {
    "id": "jLZ97Psje3Ml"
   },
   "source": [
    "**Preprocessing**"
   ]
  },
  {
   "cell_type": "code",
   "execution_count": 11,
   "metadata": {
    "id": "dmeXkeCke2RC"
   },
   "outputs": [],
   "source": [
    "from sklearn.preprocessing import LabelEncoder"
   ]
  },
  {
   "cell_type": "code",
   "execution_count": 12,
   "metadata": {
    "id": "ODOFJilMgEuE"
   },
   "outputs": [],
   "source": [
    "df = data.copy()"
   ]
  },
  {
   "cell_type": "code",
   "execution_count": 13,
   "metadata": {
    "id": "cYmImbq7fgqg"
   },
   "outputs": [],
   "source": [
    "le_label = LabelEncoder()\n",
    "df['label'] = le_label.fit_transform(df['label'].astype(str))"
   ]
  },
  {
   "cell_type": "code",
   "execution_count": 14,
   "metadata": {
    "colab": {
     "base_uri": "https://localhost:8080/"
    },
    "executionInfo": {
     "elapsed": 15,
     "status": "ok",
     "timestamp": 1632445687415,
     "user": {
      "displayName": "enahoro elomena",
      "photoUrl": "https://lh3.googleusercontent.com/a-/AOh14Gh0U4QooGrK8rUieqJ-6hRIoY4h_p5gaYSFsJNSIQ=s64",
      "userId": "08032915123829835974"
     },
     "user_tz": -60
    },
    "id": "gtoFplBxghu1",
    "outputId": "459c8ee2-1d7c-4631-8553-00dcb5661255"
   },
   "outputs": [
    {
     "data": {
      "text/plain": [
       "0    100\n",
       "1    100\n",
       "2    100\n",
       "3    100\n",
       "4    100\n",
       "6    100\n",
       "7    100\n",
       "8    100\n",
       "9    100\n",
       "5     99\n",
       "Name: label, dtype: int64"
      ]
     },
     "execution_count": 14,
     "metadata": {},
     "output_type": "execute_result"
    }
   ],
   "source": [
    "df.label.value_counts()"
   ]
  },
  {
   "cell_type": "code",
   "execution_count": 15,
   "metadata": {
    "id": "vnFneihQRdwI"
   },
   "outputs": [],
   "source": [
    "X = df.iloc[:, 1:-1].values\n",
    "y = df.iloc[:, -1].values"
   ]
  },
  {
   "cell_type": "code",
   "execution_count": 16,
   "metadata": {
    "colab": {
     "base_uri": "https://localhost:8080/"
    },
    "executionInfo": {
     "elapsed": 11,
     "status": "ok",
     "timestamp": 1632445687419,
     "user": {
      "displayName": "enahoro elomena",
      "photoUrl": "https://lh3.googleusercontent.com/a-/AOh14Gh0U4QooGrK8rUieqJ-6hRIoY4h_p5gaYSFsJNSIQ=s64",
      "userId": "08032915123829835974"
     },
     "user_tz": -60
    },
    "id": "0e3nLM6BSv8-",
    "outputId": "e8b7ada2-ea63-40af-8552-eaae3580139c"
   },
   "outputs": [
    {
     "name": "stdout",
     "output_type": "stream",
     "text": [
      "Shape of X: (999, 50)\n",
      "Shape of y: (999,)\n"
     ]
    }
   ],
   "source": [
    "print('Shape of X:', X.shape)\n",
    "print('Shape of y:', y.shape)"
   ]
  },
  {
   "cell_type": "code",
   "execution_count": 17,
   "metadata": {
    "colab": {
     "base_uri": "https://localhost:8080/"
    },
    "executionInfo": {
     "elapsed": 7,
     "status": "ok",
     "timestamp": 1632445687805,
     "user": {
      "displayName": "enahoro elomena",
      "photoUrl": "https://lh3.googleusercontent.com/a-/AOh14Gh0U4QooGrK8rUieqJ-6hRIoY4h_p5gaYSFsJNSIQ=s64",
      "userId": "08032915123829835974"
     },
     "user_tz": -60
    },
    "id": "Cquvugwvet8Q",
    "outputId": "daa16971-bf9c-4ca6-b946-103d24e81ae8"
   },
   "outputs": [
    {
     "data": {
      "text/plain": [
       "array([[ 3.44567657e-01,  8.50045383e-02,  2.91555375e-01, ...,\n",
       "         9.58731445e+03, -7.56538200e+00,  4.84860938e+03],\n",
       "       [ 3.28118712e-01,  8.65568370e-02,  2.94205427e-01, ...,\n",
       "         1.51395781e+04, -9.78660583e+00,  7.65138281e+03],\n",
       "       [ 2.67640084e-01,  8.39494765e-02,  2.89740354e-01, ...,\n",
       "         1.07638477e+04, -1.17307606e+01,  5.42998633e+03],\n",
       "       ...,\n",
       "       [ 3.75158191e-01,  9.38634574e-02,  3.06371450e-01, ...,\n",
       "         5.29185840e+03,  1.60071778e+00,  2.73083862e+03],\n",
       "       [ 4.42972302e-01,  7.82904252e-02,  2.79804260e-01, ...,\n",
       "         2.74750830e+03,  1.83611107e+00,  1.45823962e+03],\n",
       "       [ 3.70278656e-01,  8.51674080e-02,  2.91834563e-01, ...,\n",
       "         6.56261475e+03, -3.38666892e+00,  3.32503125e+03]])"
      ]
     },
     "execution_count": 17,
     "metadata": {},
     "output_type": "execute_result"
    }
   ],
   "source": [
    "X"
   ]
  },
  {
   "cell_type": "code",
   "execution_count": 18,
   "metadata": {
    "id": "UUgVO6sySosq"
   },
   "outputs": [],
   "source": [
    "# create train/test split\n",
    "X_train, X_test, y_train, y_test = train_test_split(X, y, test_size=0.3)"
   ]
  },
  {
   "cell_type": "code",
   "execution_count": 19,
   "metadata": {
    "colab": {
     "base_uri": "https://localhost:8080/"
    },
    "executionInfo": {
     "elapsed": 12,
     "status": "ok",
     "timestamp": 1632445688319,
     "user": {
      "displayName": "enahoro elomena",
      "photoUrl": "https://lh3.googleusercontent.com/a-/AOh14Gh0U4QooGrK8rUieqJ-6hRIoY4h_p5gaYSFsJNSIQ=s64",
      "userId": "08032915123829835974"
     },
     "user_tz": -60
    },
    "id": "67UiaUIF8j-g",
    "outputId": "fd5e23a4-db57-4755-d4f0-74cbec9a390e"
   },
   "outputs": [
    {
     "data": {
      "text/plain": [
       "array([2, 3, 4, 8, 7, 8, 2, 0, 8, 3, 7, 5, 5, 5, 9, 1, 4, 7, 8, 8, 5, 8,\n",
       "       4, 1, 3, 1, 2, 4, 2, 9, 3, 1, 0, 2, 7, 2, 2, 2, 8, 6, 0, 4, 0, 7,\n",
       "       1, 2, 5, 3, 9, 3, 6, 6, 4, 7, 7, 2, 6, 2, 3, 0, 5, 0, 5, 8, 1, 4,\n",
       "       5, 4, 7, 6, 2, 5, 5, 5, 5, 6, 1, 6, 1, 4, 0, 5, 1, 1, 2, 4, 2, 5,\n",
       "       9, 4, 9, 8, 6, 3, 0, 6, 4, 4, 3, 1, 2, 2, 2, 0, 4, 3, 5, 2, 9, 2,\n",
       "       0, 4, 0, 2, 5, 3, 8, 6, 6, 0, 3, 3, 0, 4, 7, 5, 5, 1, 5, 3, 1, 7,\n",
       "       7, 4, 6, 2, 6, 5, 3, 4, 2, 1, 3, 3, 5, 0, 8, 3, 0, 8, 9, 0, 1, 7,\n",
       "       8, 3, 1, 9, 5, 2, 7, 9, 5, 9, 8, 9, 6, 8, 2, 9, 6, 7, 0, 9, 2, 1,\n",
       "       7, 2, 7, 3, 3, 3, 7, 7, 7, 5, 4, 6, 1, 8, 7, 4, 6, 1, 3, 9, 3, 3,\n",
       "       9, 4, 3, 7, 0, 1, 5, 8, 7, 2, 6, 8, 8, 7, 7, 2, 0, 0, 8, 0, 3, 7,\n",
       "       0, 2, 5, 6, 7, 6, 8, 7, 6, 9, 8, 6, 1, 5, 3, 9, 9, 3, 6, 6, 7, 0,\n",
       "       6, 7, 8, 1, 1, 0, 1, 2, 2, 9, 6, 9, 6, 8, 9, 3, 2, 2, 9, 8, 3, 9,\n",
       "       3, 5, 1, 3, 1, 3, 6, 8, 9, 7, 5, 0, 3, 5, 3, 9, 0, 7, 9, 1, 3, 0,\n",
       "       3, 0, 2, 8, 6, 5, 0, 7, 8, 4, 8, 3, 8, 3, 8, 5, 8, 0, 9, 6, 4, 6,\n",
       "       7, 7, 8, 5, 2, 3, 8, 8, 4, 3, 7, 6, 2, 5, 4, 5, 9, 0, 4, 8, 6, 4,\n",
       "       4, 5, 1, 3, 5, 5, 6, 5, 6, 6, 0, 3, 1, 2, 9, 4, 7, 0, 0, 8, 5, 3,\n",
       "       5, 1, 0, 9, 2, 4, 9, 9, 3, 1, 5, 2, 3, 0, 0, 4, 7, 1, 6, 1, 3, 4,\n",
       "       0, 1, 2, 8, 2, 5, 1, 4, 1, 1, 6, 7, 5, 8, 1, 6, 1, 4, 8, 3, 1, 9,\n",
       "       0, 8, 8, 5, 0, 1, 4, 1, 3, 4, 8, 2, 8, 6, 3, 1, 6, 9, 8, 7, 2, 1,\n",
       "       1, 3, 5, 4, 5, 9, 7, 0, 6, 9, 7, 1, 2, 2, 7, 2, 5, 7, 4, 4, 5, 1,\n",
       "       7, 0, 0, 7, 1, 6, 4, 3, 1, 0, 7, 9, 7, 6, 9, 7, 6, 2, 6, 6, 2, 7,\n",
       "       2, 5, 5, 4, 4, 2, 0, 6, 6, 5, 8, 2, 1, 9, 2, 4, 3, 4, 1, 9, 0, 3,\n",
       "       0, 0, 5, 9, 4, 6, 8, 8, 9, 0, 7, 7, 9, 2, 0, 8, 1, 9, 3, 4, 4, 8,\n",
       "       1, 2, 2, 9, 3, 4, 7, 7, 8, 4, 8, 6, 1, 7, 0, 8, 4, 9, 8, 3, 4, 0,\n",
       "       3, 4, 1, 5, 1, 9, 1, 2, 9, 6, 1, 4, 1, 2, 1, 5, 8, 3, 2, 8, 8, 7,\n",
       "       2, 9, 5, 5, 8, 9, 8, 8, 3, 4, 3, 1, 5, 4, 1, 7, 7, 6, 4, 7, 7, 9,\n",
       "       4, 9, 9, 5, 1, 2, 4, 4, 1, 7, 3, 1, 8, 3, 4, 3, 7, 4, 1, 6, 8, 0,\n",
       "       8, 3, 7, 8, 9, 6, 2, 0, 4, 1, 7, 6, 1, 1, 6, 9, 1, 3, 6, 3, 3, 5,\n",
       "       3, 1, 3, 6, 4, 9, 5, 4, 0, 8, 0, 4, 2, 8, 2, 7, 5, 2, 0, 9, 7, 7,\n",
       "       2, 5, 0, 5, 6, 4, 2, 9, 6, 6, 9, 9, 8, 1, 0, 3, 6, 5, 9, 3, 8, 7,\n",
       "       7, 6, 5, 3, 4, 8, 6, 6, 3, 7, 6, 2, 7, 5, 2, 5, 7, 9, 8, 9, 9, 5,\n",
       "       9, 1, 5, 5, 9, 8, 7, 6, 9, 9, 3, 2, 7, 2, 4, 4, 1])"
      ]
     },
     "execution_count": 19,
     "metadata": {},
     "output_type": "execute_result"
    }
   ],
   "source": [
    "y_train"
   ]
  },
  {
   "cell_type": "code",
   "execution_count": 20,
   "metadata": {
    "colab": {
     "base_uri": "https://localhost:8080/"
    },
    "executionInfo": {
     "elapsed": 6,
     "status": "ok",
     "timestamp": 1632445688873,
     "user": {
      "displayName": "enahoro elomena",
      "photoUrl": "https://lh3.googleusercontent.com/a-/AOh14Gh0U4QooGrK8rUieqJ-6hRIoY4h_p5gaYSFsJNSIQ=s64",
      "userId": "08032915123829835974"
     },
     "user_tz": -60
    },
    "id": "dx2jPhWmfzbc",
    "outputId": "2a3f1e6e-fc0e-4215-aca6-d912a5a37ee8"
   },
   "outputs": [
    {
     "data": {
      "text/plain": [
       "array([[-0.02999063, -0.62245205, -0.59432874, ..., -0.46027606,\n",
       "        -0.06407223, -0.47022102],\n",
       "       [ 0.94264002, -2.00285055, -2.03034118, ..., -0.57862539,\n",
       "         0.42822179, -0.57409126],\n",
       "       [ 1.01337839,  0.43158128,  0.44052468, ..., -0.27745775,\n",
       "         0.58319089, -0.29473538],\n",
       "       ...,\n",
       "       [ 0.91650239,  0.22278487,  0.23934286, ..., -0.39416418,\n",
       "        -0.05195148, -0.37760155],\n",
       "       [ 1.04520721,  0.37246844,  0.38375106, ..., -0.63546893,\n",
       "         1.06451208, -0.6200398 ],\n",
       "       [-1.73589913, -0.30074362, -0.27326091, ...,  0.14996482,\n",
       "        -0.88569278,  0.13827259]])"
      ]
     },
     "execution_count": 20,
     "metadata": {},
     "output_type": "execute_result"
    }
   ],
   "source": [
    "from sklearn.preprocessing import StandardScaler\n",
    "sc = StandardScaler()\n",
    "X_train = sc.fit_transform(X_train)\n",
    "X_test = sc.transform(X_test)\n",
    "X_train"
   ]
  },
  {
   "cell_type": "markdown",
   "metadata": {
    "id": "nT4RmfxHC_ke"
   },
   "source": [
    "Testing ML models"
   ]
  },
  {
   "cell_type": "code",
   "execution_count": 21,
   "metadata": {
    "colab": {
     "base_uri": "https://localhost:8080/"
    },
    "executionInfo": {
     "elapsed": 12475,
     "status": "ok",
     "timestamp": 1632445702843,
     "user": {
      "displayName": "enahoro elomena",
      "photoUrl": "https://lh3.googleusercontent.com/a-/AOh14Gh0U4QooGrK8rUieqJ-6hRIoY4h_p5gaYSFsJNSIQ=s64",
      "userId": "08032915123829835974"
     },
     "user_tz": -60
    },
    "id": "r-xbftBqlgQY",
    "outputId": "54b89392-1eec-4f49-910c-917f9c4d0b69"
   },
   "outputs": [
    {
     "name": "stdout",
     "output_type": "stream",
     "text": [
      "Requirement already satisfied: catboost in c:\\users\\hp\\anaconda3\\lib\\site-packages (1.0.4)\n",
      "Requirement already satisfied: graphviz in c:\\users\\hp\\anaconda3\\lib\\site-packages (from catboost) (0.19.1)\n",
      "Requirement already satisfied: six in c:\\users\\hp\\anaconda3\\lib\\site-packages (from catboost) (1.15.0)\n",
      "Requirement already satisfied: matplotlib in c:\\users\\hp\\anaconda3\\lib\\site-packages (from catboost) (3.3.4)\n",
      "Requirement already satisfied: numpy>=1.16.0 in c:\\users\\hp\\anaconda3\\lib\\site-packages (from catboost) (1.20.1)\n",
      "Requirement already satisfied: plotly in c:\\users\\hp\\anaconda3\\lib\\site-packages (from catboost) (5.6.0)\n",
      "Requirement already satisfied: pandas>=0.24.0 in c:\\users\\hp\\anaconda3\\lib\\site-packages (from catboost) (1.2.4)\n",
      "Requirement already satisfied: scipy in c:\\users\\hp\\anaconda3\\lib\\site-packages (from catboost) (1.6.2)\n",
      "Requirement already satisfied: python-dateutil>=2.7.3 in c:\\users\\hp\\anaconda3\\lib\\site-packages (from pandas>=0.24.0->catboost) (2.8.1)\n",
      "Requirement already satisfied: pytz>=2017.3 in c:\\users\\hp\\anaconda3\\lib\\site-packages (from pandas>=0.24.0->catboost) (2021.1)\n",
      "Requirement already satisfied: pyparsing!=2.0.4,!=2.1.2,!=2.1.6,>=2.0.3 in c:\\users\\hp\\anaconda3\\lib\\site-packages (from matplotlib->catboost) (2.4.7)\n",
      "Requirement already satisfied: cycler>=0.10 in c:\\users\\hp\\anaconda3\\lib\\site-packages (from matplotlib->catboost) (0.10.0)\n",
      "Requirement already satisfied: kiwisolver>=1.0.1 in c:\\users\\hp\\anaconda3\\lib\\site-packages (from matplotlib->catboost) (1.3.1)\n",
      "Requirement already satisfied: pillow>=6.2.0 in c:\\users\\hp\\anaconda3\\lib\\site-packages (from matplotlib->catboost) (8.2.0)\n",
      "Requirement already satisfied: tenacity>=6.2.0 in c:\\users\\hp\\anaconda3\\lib\\site-packages (from plotly->catboost) (8.0.1)\n",
      "Note: you may need to restart the kernel to use updated packages.\n"
     ]
    }
   ],
   "source": [
    "pip install catboost"
   ]
  },
  {
   "cell_type": "code",
   "execution_count": 22,
   "metadata": {
    "id": "OSSIbHj-oa8v"
   },
   "outputs": [],
   "source": [
    "from sklearn.naive_bayes import GaussianNB\n",
    "from sklearn.linear_model import SGDClassifier, LogisticRegression\n",
    "from sklearn.neighbors import KNeighborsClassifier\n",
    "from sklearn.tree import DecisionTreeClassifier\n",
    "from sklearn.ensemble import RandomForestClassifier\n",
    "from sklearn.svm import SVC\n",
    "from sklearn.neural_network import MLPClassifier\n",
    "from xgboost import XGBClassifier, XGBRFClassifier\n",
    "import catboost as cb\n",
    "\n",
    "from sklearn.metrics import confusion_matrix, accuracy_score, roc_auc_score, roc_curve\n",
    "from sklearn import preprocessing\n",
    "from sklearn.model_selection import train_test_split\n"
   ]
  },
  {
   "cell_type": "code",
   "execution_count": 23,
   "metadata": {
    "id": "NreHOQzNobAZ"
   },
   "outputs": [],
   "source": [
    "def model_assess(model, title = \"Default\"):\n",
    "    model.fit(X_train, y_train)\n",
    "    preds = model.predict(X_test)\n",
    "    #print(confusion_matrix(y_test, preds))\n",
    "    print('Accuracy', title, ':', round(accuracy_score(y_test, preds), 5), '\\n')"
   ]
  },
  {
   "cell_type": "code",
   "execution_count": 24,
   "metadata": {
    "colab": {
     "base_uri": "https://localhost:8080/"
    },
    "executionInfo": {
     "elapsed": 148368,
     "status": "ok",
     "timestamp": 1632445851198,
     "user": {
      "displayName": "enahoro elomena",
      "photoUrl": "https://lh3.googleusercontent.com/a-/AOh14Gh0U4QooGrK8rUieqJ-6hRIoY4h_p5gaYSFsJNSIQ=s64",
      "userId": "08032915123829835974"
     },
     "user_tz": -60
    },
    "id": "Ge0qhq01ouIK",
    "outputId": "daa7f3b7-084b-429f-d84e-4915f79d6757"
   },
   "outputs": [
    {
     "name": "stdout",
     "output_type": "stream",
     "text": [
      "Accuracy Naive Bayes : 0.46 \n",
      "\n",
      "Accuracy Stochastic Gradient Descent : 0.56 \n",
      "\n",
      "Accuracy KNN : 0.49667 \n",
      "\n",
      "Accuracy Decission trees : 0.49333 \n",
      "\n",
      "Accuracy Random Forest : 0.60667 \n",
      "\n",
      "Accuracy Support Vector Machine : 0.56 \n",
      "\n"
     ]
    },
    {
     "name": "stderr",
     "output_type": "stream",
     "text": [
      "C:\\Users\\HP\\anaconda3\\lib\\site-packages\\sklearn\\linear_model\\_logistic.py:763: ConvergenceWarning: lbfgs failed to converge (status=1):\n",
      "STOP: TOTAL NO. of ITERATIONS REACHED LIMIT.\n",
      "\n",
      "Increase the number of iterations (max_iter) or scale the data as shown in:\n",
      "    https://scikit-learn.org/stable/modules/preprocessing.html\n",
      "Please also refer to the documentation for alternative solver options:\n",
      "    https://scikit-learn.org/stable/modules/linear_model.html#logistic-regression\n",
      "  n_iter_i = _check_optimize_result(\n"
     ]
    },
    {
     "name": "stdout",
     "output_type": "stream",
     "text": [
      "Accuracy Logistic Regression : 0.65333 \n",
      "\n",
      "Accuracy Neural Nets : 0.60667 \n",
      "\n",
      "Accuracy Cat Boost Classifier : 0.64667 \n",
      "\n",
      "[10:27:56] WARNING: C:/Users/Administrator/workspace/xgboost-win64_release_1.5.1/src/learner.cc:1115: Starting in XGBoost 1.3.0, the default evaluation metric used with the objective 'multi:softprob' was changed from 'merror' to 'mlogloss'. Explicitly set eval_metric if you'd like to restore the old behavior.\n"
     ]
    },
    {
     "name": "stderr",
     "output_type": "stream",
     "text": [
      "C:\\Users\\HP\\anaconda3\\lib\\site-packages\\xgboost\\sklearn.py:1224: UserWarning: The use of label encoder in XGBClassifier is deprecated and will be removed in a future release. To remove this warning, do the following: 1) Pass option use_label_encoder=False when constructing XGBClassifier object; and 2) Encode your labels (y) as integers starting with 0, i.e. 0, 1, 2, ..., [num_class - 1].\n",
      "  warnings.warn(label_encoder_deprecation_msg, UserWarning)\n"
     ]
    },
    {
     "name": "stdout",
     "output_type": "stream",
     "text": [
      "Accuracy Cross Gradient Booster : 0.63667 \n",
      "\n"
     ]
    },
    {
     "name": "stderr",
     "output_type": "stream",
     "text": [
      "C:\\Users\\HP\\anaconda3\\lib\\site-packages\\xgboost\\sklearn.py:1224: UserWarning: The use of label encoder in XGBClassifier is deprecated and will be removed in a future release. To remove this warning, do the following: 1) Pass option use_label_encoder=False when constructing XGBClassifier object; and 2) Encode your labels (y) as integers starting with 0, i.e. 0, 1, 2, ..., [num_class - 1].\n",
      "  warnings.warn(label_encoder_deprecation_msg, UserWarning)\n"
     ]
    },
    {
     "name": "stdout",
     "output_type": "stream",
     "text": [
      "[10:28:33] WARNING: C:/Users/Administrator/workspace/xgboost-win64_release_1.5.1/src/learner.cc:1115: Starting in XGBoost 1.3.0, the default evaluation metric used with the objective 'multi:softprob' was changed from 'merror' to 'mlogloss'. Explicitly set eval_metric if you'd like to restore the old behavior.\n",
      "Accuracy Cross Gradient Booster (Random Forest) : 0.6 \n",
      "\n"
     ]
    }
   ],
   "source": [
    "# Naive Bayes\n",
    "nb = GaussianNB()\n",
    "model_assess(nb, \"Naive Bayes\")\n",
    "\n",
    "# Stochastic Gradient Descent\n",
    "sgd = SGDClassifier(max_iter=5000, random_state=0)\n",
    "model_assess(sgd, \"Stochastic Gradient Descent\")\n",
    "\n",
    "# KNN\n",
    "knn = KNeighborsClassifier(n_neighbors=19)\n",
    "model_assess(knn, \"KNN\")\n",
    "\n",
    "# Decission trees\n",
    "tree = DecisionTreeClassifier()\n",
    "model_assess(tree, \"Decission trees\")\n",
    "\n",
    "# Random Forest\n",
    "rforest = RandomForestClassifier(n_estimators=1000, max_depth=10, random_state=0)\n",
    "model_assess(rforest, \"Random Forest\")\n",
    "\n",
    "# Support Vector Machine\n",
    "svm = SVC(decision_function_shape=\"ovo\")\n",
    "model_assess(svm, \"Support Vector Machine\")\n",
    "\n",
    "# Logistic Regression\n",
    "lg = LogisticRegression(random_state=0, solver='lbfgs', multi_class='multinomial')\n",
    "model_assess(lg, \"Logistic Regression\")\n",
    "\n",
    "# Neural Nets\n",
    "nn = MLPClassifier(solver='lbfgs', alpha=1e-5, hidden_layer_sizes=(5000, 10), random_state=1)\n",
    "model_assess(nn, \"Neural Nets\")\n",
    "\n",
    "# catboost\n",
    "cbc = cb.CatBoostClassifier(verbose=0, eval_metric='Accuracy', loss_function='MultiClass')\n",
    "model_assess(cbc,\"Cat Boost Classifier\")\n",
    "\n",
    "# Cross Gradient Booster\n",
    "xgb = XGBClassifier(n_estimators=1000, learning_rate=0.05)\n",
    "model_assess(xgb, \"Cross Gradient Booster\")\n",
    "\n",
    "# Cross Gradient Booster (Random Forest)\n",
    "xgbrf = XGBRFClassifier(objective= 'multi:softmax')\n",
    "model_assess(xgbrf, \"Cross Gradient Booster (Random Forest)\")"
   ]
  },
  {
   "cell_type": "code",
   "execution_count": null,
   "metadata": {
    "id": "k9T4MIPRfzYK"
   },
   "outputs": [],
   "source": []
  },
  {
   "cell_type": "markdown",
   "metadata": {
    "id": "Tda4xfk1DGHA"
   },
   "source": [
    "Testing ANN"
   ]
  },
  {
   "cell_type": "code",
   "execution_count": 25,
   "metadata": {
    "id": "du3Y3C0qrExC"
   },
   "outputs": [
    {
     "ename": "AttributeError",
     "evalue": "module 'keras.engine.base_layer' has no attribute 'BaseRandomLayer'",
     "output_type": "error",
     "traceback": [
      "\u001b[1;31m---------------------------------------------------------------------------\u001b[0m",
      "\u001b[1;31mAttributeError\u001b[0m                            Traceback (most recent call last)",
      "\u001b[1;32m<ipython-input-25-9c5e0a19b646>\u001b[0m in \u001b[0;36m<module>\u001b[1;34m\u001b[0m\n\u001b[1;32m----> 1\u001b[1;33m \u001b[1;32mfrom\u001b[0m \u001b[0mkeras\u001b[0m\u001b[1;33m.\u001b[0m\u001b[0mmodels\u001b[0m \u001b[1;32mimport\u001b[0m \u001b[0mSequential\u001b[0m\u001b[1;33m\u001b[0m\u001b[1;33m\u001b[0m\u001b[0m\n\u001b[0m",
      "\u001b[1;32m~\\anaconda3\\lib\\site-packages\\keras\\__init__.py\u001b[0m in \u001b[0;36m<module>\u001b[1;34m\u001b[0m\n\u001b[0;32m     23\u001b[0m \u001b[1;33m\u001b[0m\u001b[0m\n\u001b[0;32m     24\u001b[0m \u001b[1;31m# See b/110718070#comment18 for more details about this import.\u001b[0m\u001b[1;33m\u001b[0m\u001b[1;33m\u001b[0m\u001b[1;33m\u001b[0m\u001b[0m\n\u001b[1;32m---> 25\u001b[1;33m \u001b[1;32mfrom\u001b[0m \u001b[0mkeras\u001b[0m \u001b[1;32mimport\u001b[0m \u001b[0mmodels\u001b[0m\u001b[1;33m\u001b[0m\u001b[1;33m\u001b[0m\u001b[0m\n\u001b[0m\u001b[0;32m     26\u001b[0m \u001b[1;33m\u001b[0m\u001b[0m\n\u001b[0;32m     27\u001b[0m \u001b[1;32mfrom\u001b[0m \u001b[0mkeras\u001b[0m\u001b[1;33m.\u001b[0m\u001b[0mengine\u001b[0m\u001b[1;33m.\u001b[0m\u001b[0minput_layer\u001b[0m \u001b[1;32mimport\u001b[0m \u001b[0mInput\u001b[0m\u001b[1;33m\u001b[0m\u001b[1;33m\u001b[0m\u001b[0m\n",
      "\u001b[1;32m~\\anaconda3\\lib\\site-packages\\keras\\models.py\u001b[0m in \u001b[0;36m<module>\u001b[1;34m\u001b[0m\n\u001b[0;32m     18\u001b[0m \u001b[1;32mimport\u001b[0m \u001b[0mtensorflow\u001b[0m\u001b[1;33m.\u001b[0m\u001b[0mcompat\u001b[0m\u001b[1;33m.\u001b[0m\u001b[0mv2\u001b[0m \u001b[1;32mas\u001b[0m \u001b[0mtf\u001b[0m\u001b[1;33m\u001b[0m\u001b[1;33m\u001b[0m\u001b[0m\n\u001b[0;32m     19\u001b[0m \u001b[1;32mfrom\u001b[0m \u001b[0mkeras\u001b[0m \u001b[1;32mimport\u001b[0m \u001b[0mbackend\u001b[0m\u001b[1;33m\u001b[0m\u001b[1;33m\u001b[0m\u001b[0m\n\u001b[1;32m---> 20\u001b[1;33m \u001b[1;32mfrom\u001b[0m \u001b[0mkeras\u001b[0m \u001b[1;32mimport\u001b[0m \u001b[0mmetrics\u001b[0m \u001b[1;32mas\u001b[0m \u001b[0mmetrics_module\u001b[0m\u001b[1;33m\u001b[0m\u001b[1;33m\u001b[0m\u001b[0m\n\u001b[0m\u001b[0;32m     21\u001b[0m \u001b[1;32mfrom\u001b[0m \u001b[0mkeras\u001b[0m \u001b[1;32mimport\u001b[0m \u001b[0moptimizer_v1\u001b[0m\u001b[1;33m\u001b[0m\u001b[1;33m\u001b[0m\u001b[0m\n\u001b[0;32m     22\u001b[0m \u001b[1;32mfrom\u001b[0m \u001b[0mkeras\u001b[0m\u001b[1;33m.\u001b[0m\u001b[0mengine\u001b[0m \u001b[1;32mimport\u001b[0m \u001b[0mfunctional\u001b[0m\u001b[1;33m\u001b[0m\u001b[1;33m\u001b[0m\u001b[0m\n",
      "\u001b[1;32m~\\anaconda3\\lib\\site-packages\\keras\\metrics.py\u001b[0m in \u001b[0;36m<module>\u001b[1;34m\u001b[0m\n\u001b[0;32m     24\u001b[0m \u001b[1;33m\u001b[0m\u001b[0m\n\u001b[0;32m     25\u001b[0m \u001b[1;32mimport\u001b[0m \u001b[0mnumpy\u001b[0m \u001b[1;32mas\u001b[0m \u001b[0mnp\u001b[0m\u001b[1;33m\u001b[0m\u001b[1;33m\u001b[0m\u001b[0m\n\u001b[1;32m---> 26\u001b[1;33m \u001b[1;32mfrom\u001b[0m \u001b[0mkeras\u001b[0m \u001b[1;32mimport\u001b[0m \u001b[0mactivations\u001b[0m\u001b[1;33m\u001b[0m\u001b[1;33m\u001b[0m\u001b[0m\n\u001b[0m\u001b[0;32m     27\u001b[0m \u001b[1;32mfrom\u001b[0m \u001b[0mkeras\u001b[0m \u001b[1;32mimport\u001b[0m \u001b[0mbackend\u001b[0m\u001b[1;33m\u001b[0m\u001b[1;33m\u001b[0m\u001b[0m\n\u001b[0;32m     28\u001b[0m \u001b[1;32mfrom\u001b[0m \u001b[0mkeras\u001b[0m\u001b[1;33m.\u001b[0m\u001b[0mengine\u001b[0m \u001b[1;32mimport\u001b[0m \u001b[0mbase_layer\u001b[0m\u001b[1;33m\u001b[0m\u001b[1;33m\u001b[0m\u001b[0m\n",
      "\u001b[1;32m~\\anaconda3\\lib\\site-packages\\keras\\activations.py\u001b[0m in \u001b[0;36m<module>\u001b[1;34m\u001b[0m\n\u001b[0;32m     18\u001b[0m \u001b[1;33m\u001b[0m\u001b[0m\n\u001b[0;32m     19\u001b[0m \u001b[1;32mfrom\u001b[0m \u001b[0mkeras\u001b[0m \u001b[1;32mimport\u001b[0m \u001b[0mbackend\u001b[0m\u001b[1;33m\u001b[0m\u001b[1;33m\u001b[0m\u001b[0m\n\u001b[1;32m---> 20\u001b[1;33m \u001b[1;32mfrom\u001b[0m \u001b[0mkeras\u001b[0m\u001b[1;33m.\u001b[0m\u001b[0mlayers\u001b[0m \u001b[1;32mimport\u001b[0m \u001b[0madvanced_activations\u001b[0m\u001b[1;33m\u001b[0m\u001b[1;33m\u001b[0m\u001b[0m\n\u001b[0m\u001b[0;32m     21\u001b[0m \u001b[1;32mfrom\u001b[0m \u001b[0mkeras\u001b[0m\u001b[1;33m.\u001b[0m\u001b[0mutils\u001b[0m\u001b[1;33m.\u001b[0m\u001b[0mgeneric_utils\u001b[0m \u001b[1;32mimport\u001b[0m \u001b[0mdeserialize_keras_object\u001b[0m\u001b[1;33m\u001b[0m\u001b[1;33m\u001b[0m\u001b[0m\n\u001b[0;32m     22\u001b[0m \u001b[1;32mfrom\u001b[0m \u001b[0mkeras\u001b[0m\u001b[1;33m.\u001b[0m\u001b[0mutils\u001b[0m\u001b[1;33m.\u001b[0m\u001b[0mgeneric_utils\u001b[0m \u001b[1;32mimport\u001b[0m \u001b[0mserialize_keras_object\u001b[0m\u001b[1;33m\u001b[0m\u001b[1;33m\u001b[0m\u001b[0m\n",
      "\u001b[1;32m~\\anaconda3\\lib\\site-packages\\keras\\layers\\__init__.py\u001b[0m in \u001b[0;36m<module>\u001b[1;34m\u001b[0m\n\u001b[0;32m     29\u001b[0m \u001b[1;33m\u001b[0m\u001b[0m\n\u001b[0;32m     30\u001b[0m \u001b[1;31m# Image preprocessing layers.\u001b[0m\u001b[1;33m\u001b[0m\u001b[1;33m\u001b[0m\u001b[1;33m\u001b[0m\u001b[0m\n\u001b[1;32m---> 31\u001b[1;33m \u001b[1;32mfrom\u001b[0m \u001b[0mkeras\u001b[0m\u001b[1;33m.\u001b[0m\u001b[0mlayers\u001b[0m\u001b[1;33m.\u001b[0m\u001b[0mpreprocessing\u001b[0m\u001b[1;33m.\u001b[0m\u001b[0mimage_preprocessing\u001b[0m \u001b[1;32mimport\u001b[0m \u001b[0mCenterCrop\u001b[0m\u001b[1;33m\u001b[0m\u001b[1;33m\u001b[0m\u001b[0m\n\u001b[0m\u001b[0;32m     32\u001b[0m \u001b[1;32mfrom\u001b[0m \u001b[0mkeras\u001b[0m\u001b[1;33m.\u001b[0m\u001b[0mlayers\u001b[0m\u001b[1;33m.\u001b[0m\u001b[0mpreprocessing\u001b[0m\u001b[1;33m.\u001b[0m\u001b[0mimage_preprocessing\u001b[0m \u001b[1;32mimport\u001b[0m \u001b[0mRandomCrop\u001b[0m\u001b[1;33m\u001b[0m\u001b[1;33m\u001b[0m\u001b[0m\n\u001b[0;32m     33\u001b[0m \u001b[1;32mfrom\u001b[0m \u001b[0mkeras\u001b[0m\u001b[1;33m.\u001b[0m\u001b[0mlayers\u001b[0m\u001b[1;33m.\u001b[0m\u001b[0mpreprocessing\u001b[0m\u001b[1;33m.\u001b[0m\u001b[0mimage_preprocessing\u001b[0m \u001b[1;32mimport\u001b[0m \u001b[0mRandomFlip\u001b[0m\u001b[1;33m\u001b[0m\u001b[1;33m\u001b[0m\u001b[0m\n",
      "\u001b[1;32m~\\anaconda3\\lib\\site-packages\\keras\\layers\\preprocessing\\image_preprocessing.py\u001b[0m in \u001b[0;36m<module>\u001b[1;34m\u001b[0m\n\u001b[0;32m     22\u001b[0m \u001b[1;32mfrom\u001b[0m \u001b[0mkeras\u001b[0m\u001b[1;33m.\u001b[0m\u001b[0mengine\u001b[0m \u001b[1;32mimport\u001b[0m \u001b[0mbase_layer\u001b[0m\u001b[1;33m\u001b[0m\u001b[1;33m\u001b[0m\u001b[0m\n\u001b[0;32m     23\u001b[0m \u001b[1;32mfrom\u001b[0m \u001b[0mkeras\u001b[0m\u001b[1;33m.\u001b[0m\u001b[0mengine\u001b[0m \u001b[1;32mimport\u001b[0m \u001b[0mbase_preprocessing_layer\u001b[0m\u001b[1;33m\u001b[0m\u001b[1;33m\u001b[0m\u001b[0m\n\u001b[1;32m---> 24\u001b[1;33m \u001b[1;32mfrom\u001b[0m \u001b[0mkeras\u001b[0m\u001b[1;33m.\u001b[0m\u001b[0mpreprocessing\u001b[0m \u001b[1;32mimport\u001b[0m \u001b[0mimage\u001b[0m \u001b[1;32mas\u001b[0m \u001b[0mimage_preprocessing\u001b[0m\u001b[1;33m\u001b[0m\u001b[1;33m\u001b[0m\u001b[0m\n\u001b[0m\u001b[0;32m     25\u001b[0m \u001b[1;32mfrom\u001b[0m \u001b[0mkeras\u001b[0m\u001b[1;33m.\u001b[0m\u001b[0mutils\u001b[0m \u001b[1;32mimport\u001b[0m \u001b[0mcontrol_flow_util\u001b[0m\u001b[1;33m\u001b[0m\u001b[1;33m\u001b[0m\u001b[0m\n\u001b[0;32m     26\u001b[0m \u001b[1;32mfrom\u001b[0m \u001b[0mtensorflow\u001b[0m\u001b[1;33m.\u001b[0m\u001b[0mpython\u001b[0m\u001b[1;33m.\u001b[0m\u001b[0mops\u001b[0m \u001b[1;32mimport\u001b[0m \u001b[0mstateless_random_ops\u001b[0m\u001b[1;33m\u001b[0m\u001b[1;33m\u001b[0m\u001b[0m\n",
      "\u001b[1;32m~\\anaconda3\\lib\\site-packages\\keras\\preprocessing\\__init__.py\u001b[0m in \u001b[0;36m<module>\u001b[1;34m\u001b[0m\n\u001b[0;32m     24\u001b[0m \u001b[1;32mfrom\u001b[0m \u001b[0mkeras\u001b[0m\u001b[1;33m.\u001b[0m\u001b[0mpreprocessing\u001b[0m \u001b[1;32mimport\u001b[0m \u001b[0mtext\u001b[0m\u001b[1;33m\u001b[0m\u001b[1;33m\u001b[0m\u001b[0m\n\u001b[0;32m     25\u001b[0m \u001b[1;32mfrom\u001b[0m \u001b[0mkeras\u001b[0m\u001b[1;33m.\u001b[0m\u001b[0mpreprocessing\u001b[0m \u001b[1;32mimport\u001b[0m \u001b[0mtimeseries\u001b[0m\u001b[1;33m\u001b[0m\u001b[1;33m\u001b[0m\u001b[0m\n\u001b[1;32m---> 26\u001b[1;33m \u001b[1;32mfrom\u001b[0m \u001b[0mkeras\u001b[0m\u001b[1;33m.\u001b[0m\u001b[0mutils\u001b[0m \u001b[1;32mimport\u001b[0m \u001b[0mall_utils\u001b[0m \u001b[1;32mas\u001b[0m \u001b[0mutils\u001b[0m\u001b[1;33m\u001b[0m\u001b[1;33m\u001b[0m\u001b[0m\n\u001b[0m\u001b[0;32m     27\u001b[0m \u001b[1;33m\u001b[0m\u001b[0m\n\u001b[0;32m     28\u001b[0m \u001b[1;31m# This exists for compatibility with prior version of keras_preprocessing.\u001b[0m\u001b[1;33m\u001b[0m\u001b[1;33m\u001b[0m\u001b[1;33m\u001b[0m\u001b[0m\n",
      "\u001b[1;32m~\\anaconda3\\lib\\site-packages\\keras\\utils\\all_utils.py\u001b[0m in \u001b[0;36m<module>\u001b[1;34m\u001b[0m\n\u001b[0;32m     32\u001b[0m \u001b[1;32mfrom\u001b[0m \u001b[0mkeras\u001b[0m\u001b[1;33m.\u001b[0m\u001b[0mutils\u001b[0m\u001b[1;33m.\u001b[0m\u001b[0mgeneric_utils\u001b[0m \u001b[1;32mimport\u001b[0m \u001b[0mserialize_keras_object\u001b[0m\u001b[1;33m\u001b[0m\u001b[1;33m\u001b[0m\u001b[0m\n\u001b[0;32m     33\u001b[0m \u001b[1;32mfrom\u001b[0m \u001b[0mkeras\u001b[0m\u001b[1;33m.\u001b[0m\u001b[0mutils\u001b[0m\u001b[1;33m.\u001b[0m\u001b[0mlayer_utils\u001b[0m \u001b[1;32mimport\u001b[0m \u001b[0mget_source_inputs\u001b[0m\u001b[1;33m\u001b[0m\u001b[1;33m\u001b[0m\u001b[0m\n\u001b[1;32m---> 34\u001b[1;33m \u001b[1;32mfrom\u001b[0m \u001b[0mkeras\u001b[0m\u001b[1;33m.\u001b[0m\u001b[0mutils\u001b[0m\u001b[1;33m.\u001b[0m\u001b[0mmulti_gpu_utils\u001b[0m \u001b[1;32mimport\u001b[0m \u001b[0mmulti_gpu_model\u001b[0m\u001b[1;33m\u001b[0m\u001b[1;33m\u001b[0m\u001b[0m\n\u001b[0m\u001b[0;32m     35\u001b[0m \u001b[1;32mfrom\u001b[0m \u001b[0mkeras\u001b[0m\u001b[1;33m.\u001b[0m\u001b[0mutils\u001b[0m\u001b[1;33m.\u001b[0m\u001b[0mnp_utils\u001b[0m \u001b[1;32mimport\u001b[0m \u001b[0mnormalize\u001b[0m\u001b[1;33m\u001b[0m\u001b[1;33m\u001b[0m\u001b[0m\n\u001b[0;32m     36\u001b[0m \u001b[1;32mfrom\u001b[0m \u001b[0mkeras\u001b[0m\u001b[1;33m.\u001b[0m\u001b[0mutils\u001b[0m\u001b[1;33m.\u001b[0m\u001b[0mnp_utils\u001b[0m \u001b[1;32mimport\u001b[0m \u001b[0mto_categorical\u001b[0m\u001b[1;33m\u001b[0m\u001b[1;33m\u001b[0m\u001b[0m\n",
      "\u001b[1;32m~\\anaconda3\\lib\\site-packages\\keras\\utils\\multi_gpu_utils.py\u001b[0m in \u001b[0;36m<module>\u001b[1;34m\u001b[0m\n\u001b[0;32m     18\u001b[0m \u001b[1;32mfrom\u001b[0m \u001b[0mkeras\u001b[0m \u001b[1;32mimport\u001b[0m \u001b[0mbackend\u001b[0m\u001b[1;33m\u001b[0m\u001b[1;33m\u001b[0m\u001b[0m\n\u001b[0;32m     19\u001b[0m \u001b[1;32mfrom\u001b[0m \u001b[0mkeras\u001b[0m\u001b[1;33m.\u001b[0m\u001b[0mengine\u001b[0m\u001b[1;33m.\u001b[0m\u001b[0mtraining\u001b[0m \u001b[1;32mimport\u001b[0m \u001b[0mModel\u001b[0m\u001b[1;33m\u001b[0m\u001b[1;33m\u001b[0m\u001b[0m\n\u001b[1;32m---> 20\u001b[1;33m \u001b[1;32mfrom\u001b[0m \u001b[0mkeras\u001b[0m\u001b[1;33m.\u001b[0m\u001b[0mlayers\u001b[0m\u001b[1;33m.\u001b[0m\u001b[0mcore\u001b[0m \u001b[1;32mimport\u001b[0m \u001b[0mLambda\u001b[0m\u001b[1;33m\u001b[0m\u001b[1;33m\u001b[0m\u001b[0m\n\u001b[0m\u001b[0;32m     21\u001b[0m \u001b[1;32mfrom\u001b[0m \u001b[0mkeras\u001b[0m\u001b[1;33m.\u001b[0m\u001b[0mlayers\u001b[0m\u001b[1;33m.\u001b[0m\u001b[0mmerge\u001b[0m \u001b[1;32mimport\u001b[0m \u001b[0mconcatenate\u001b[0m\u001b[1;33m\u001b[0m\u001b[1;33m\u001b[0m\u001b[0m\n\u001b[0;32m     22\u001b[0m \u001b[1;33m\u001b[0m\u001b[0m\n",
      "\u001b[1;32m~\\anaconda3\\lib\\site-packages\\keras\\layers\\core\\__init__.py\u001b[0m in \u001b[0;36m<module>\u001b[1;34m\u001b[0m\n\u001b[0;32m     18\u001b[0m \u001b[1;32mfrom\u001b[0m \u001b[0mkeras\u001b[0m\u001b[1;33m.\u001b[0m\u001b[0mlayers\u001b[0m\u001b[1;33m.\u001b[0m\u001b[0mcore\u001b[0m\u001b[1;33m.\u001b[0m\u001b[0mactivity_regularization\u001b[0m \u001b[1;32mimport\u001b[0m \u001b[0mActivityRegularization\u001b[0m\u001b[1;33m\u001b[0m\u001b[1;33m\u001b[0m\u001b[0m\n\u001b[0;32m     19\u001b[0m \u001b[1;32mfrom\u001b[0m \u001b[0mkeras\u001b[0m\u001b[1;33m.\u001b[0m\u001b[0mlayers\u001b[0m\u001b[1;33m.\u001b[0m\u001b[0mcore\u001b[0m\u001b[1;33m.\u001b[0m\u001b[0mdense\u001b[0m \u001b[1;32mimport\u001b[0m \u001b[0mDense\u001b[0m\u001b[1;33m\u001b[0m\u001b[1;33m\u001b[0m\u001b[0m\n\u001b[1;32m---> 20\u001b[1;33m \u001b[1;32mfrom\u001b[0m \u001b[0mkeras\u001b[0m\u001b[1;33m.\u001b[0m\u001b[0mlayers\u001b[0m\u001b[1;33m.\u001b[0m\u001b[0mcore\u001b[0m\u001b[1;33m.\u001b[0m\u001b[0mdropout\u001b[0m \u001b[1;32mimport\u001b[0m \u001b[0mDropout\u001b[0m\u001b[1;33m\u001b[0m\u001b[1;33m\u001b[0m\u001b[0m\n\u001b[0m\u001b[0;32m     21\u001b[0m \u001b[1;32mfrom\u001b[0m \u001b[0mkeras\u001b[0m\u001b[1;33m.\u001b[0m\u001b[0mlayers\u001b[0m\u001b[1;33m.\u001b[0m\u001b[0mcore\u001b[0m\u001b[1;33m.\u001b[0m\u001b[0mflatten\u001b[0m \u001b[1;32mimport\u001b[0m \u001b[0mFlatten\u001b[0m\u001b[1;33m\u001b[0m\u001b[1;33m\u001b[0m\u001b[0m\n\u001b[0;32m     22\u001b[0m \u001b[1;32mfrom\u001b[0m \u001b[0mkeras\u001b[0m\u001b[1;33m.\u001b[0m\u001b[0mlayers\u001b[0m\u001b[1;33m.\u001b[0m\u001b[0mcore\u001b[0m\u001b[1;33m.\u001b[0m\u001b[0mlambda_layer\u001b[0m \u001b[1;32mimport\u001b[0m \u001b[0mLambda\u001b[0m\u001b[1;33m\u001b[0m\u001b[1;33m\u001b[0m\u001b[0m\n",
      "\u001b[1;32m~\\anaconda3\\lib\\site-packages\\keras\\layers\\core\\dropout.py\u001b[0m in \u001b[0;36m<module>\u001b[1;34m\u001b[0m\n\u001b[0;32m     24\u001b[0m \u001b[1;33m\u001b[0m\u001b[0m\n\u001b[0;32m     25\u001b[0m \u001b[1;33m@\u001b[0m\u001b[0mkeras_export\u001b[0m\u001b[1;33m(\u001b[0m\u001b[1;34m'keras.layers.Dropout'\u001b[0m\u001b[1;33m)\u001b[0m\u001b[1;33m\u001b[0m\u001b[1;33m\u001b[0m\u001b[0m\n\u001b[1;32m---> 26\u001b[1;33m \u001b[1;32mclass\u001b[0m \u001b[0mDropout\u001b[0m\u001b[1;33m(\u001b[0m\u001b[0mbase_layer\u001b[0m\u001b[1;33m.\u001b[0m\u001b[0mBaseRandomLayer\u001b[0m\u001b[1;33m)\u001b[0m\u001b[1;33m:\u001b[0m\u001b[1;33m\u001b[0m\u001b[1;33m\u001b[0m\u001b[0m\n\u001b[0m\u001b[0;32m     27\u001b[0m   \"\"\"Applies Dropout to the input.\n\u001b[0;32m     28\u001b[0m \u001b[1;33m\u001b[0m\u001b[0m\n",
      "\u001b[1;31mAttributeError\u001b[0m: module 'keras.engine.base_layer' has no attribute 'BaseRandomLayer'"
     ]
    }
   ],
   "source": [
    "from keras.models import Sequential"
   ]
  },
  {
   "cell_type": "code",
   "execution_count": null,
   "metadata": {
    "id": "csKMM1zYS_G9"
   },
   "outputs": [],
   "source": [
    "def train_model(model, epochs, optimizer):\n",
    "  batch_size = 128\n",
    "  model.compile(optimizer=optimizer,\n",
    "                loss='sparse_categorical_crossentropy', \n",
    "                metrics='accuracy')\n",
    "  return model.fit(X_train, y_train, validation_data=(X_test, y_test), epochs=epochs, batch_size=batch_size)"
   ]
  },
  {
   "cell_type": "code",
   "execution_count": null,
   "metadata": {
    "id": "1j6j90rLsggi"
   },
   "outputs": [],
   "source": [
    "def plot_graph(history):\n",
    "  print(\"Validation Accuracy\", max(history.history[\"val_accuracy\"]))\n",
    "  pd.DataFrame(history.history).plot(figsize=(12,6))\n",
    "  plt.show()"
   ]
  },
  {
   "cell_type": "code",
   "execution_count": null,
   "metadata": {
    "colab": {
     "base_uri": "https://localhost:8080/"
    },
    "executionInfo": {
     "elapsed": 25295,
     "status": "ok",
     "timestamp": 1632445876472,
     "user": {
      "displayName": "enahoro elomena",
      "photoUrl": "https://lh3.googleusercontent.com/a-/AOh14Gh0U4QooGrK8rUieqJ-6hRIoY4h_p5gaYSFsJNSIQ=s64",
      "userId": "08032915123829835974"
     },
     "user_tz": -60
    },
    "id": "y957p8AItaJ1",
    "outputId": "8f6a7bc3-1a64-4cca-8982-bf406af241fd"
   },
   "outputs": [],
   "source": [
    "model = keras.models.Sequential([\n",
    "    # input layer\n",
    "    keras.layers.Flatten(input_shape=(X_train.shape[1],)),\n",
    "    \n",
    "    # 1st dense layer\n",
    "    keras.layers.Dense(512, activation='relu', kernel_regularizer=keras.regularizers.l2(0.001)),\n",
    "    keras.layers.Dropout(0.3),\n",
    "\n",
    "    # 2nd dense layer\n",
    "    keras.layers.Dense(256, activation='relu', kernel_regularizer=keras.regularizers.l2(0.001)),\n",
    "    keras.layers.Dropout(0.3),\n",
    "\n",
    "    # 2nd dense layer\n",
    "    keras.layers.Dense(128, activation='relu', kernel_regularizer=keras.regularizers.l2(0.001)),\n",
    "    keras.layers.Dropout(0.3),\n",
    "\n",
    "    # 3rd dense layer\n",
    "    keras.layers.Dense(64, activation='relu', kernel_regularizer=keras.regularizers.l2(0.001)),\n",
    "    keras.layers.Dropout(0.3),\n",
    "\n",
    "    # output layer\n",
    "    keras.layers.Dense(10, activation='softmax')\n",
    "])\n",
    "print(model.summary())\n",
    "model_history = train_model(model=model, epochs=300, optimizer='adam')"
   ]
  },
  {
   "cell_type": "code",
   "execution_count": null,
   "metadata": {
    "colab": {
     "base_uri": "https://localhost:8080/"
    },
    "executionInfo": {
     "elapsed": 55,
     "status": "ok",
     "timestamp": 1632445876474,
     "user": {
      "displayName": "enahoro elomena",
      "photoUrl": "https://lh3.googleusercontent.com/a-/AOh14Gh0U4QooGrK8rUieqJ-6hRIoY4h_p5gaYSFsJNSIQ=s64",
      "userId": "08032915123829835974"
     },
     "user_tz": -60
    },
    "id": "uxGY7-84vq3O",
    "outputId": "cbb24612-351e-4392-c75d-7bdbf37c0bf6"
   },
   "outputs": [],
   "source": [
    "test_loss, test_acc = model.evaluate(X_test, y_test, batch_size=128)\n",
    "print(\"Test loss:\", test_loss)\n",
    "print()\n",
    "print(\"Best Accuracy:\", test_acc*100)"
   ]
  },
  {
   "cell_type": "code",
   "execution_count": null,
   "metadata": {
    "id": "eiXF6fV4yINt"
   },
   "outputs": [],
   "source": [
    "def plot_history(history):\n",
    "\n",
    "    fig, axs = plt.subplots(2)\n",
    "\n",
    "    # create accuracy sublpot\n",
    "    axs[0].plot(history.history[\"accuracy\"], label=\"train accuracy\")\n",
    "    axs[0].plot(history.history[\"val_accuracy\"], label=\"test accuracy\")\n",
    "    axs[0].set_ylabel(\"Accuracy\")\n",
    "    axs[0].legend(loc=\"lower right\")\n",
    "    axs[0].set_title(\"Accuracy eval\")\n",
    "\n",
    "    # create error sublpot\n",
    "    axs[1].plot(history.history[\"loss\"], label=\"train error\")\n",
    "    axs[1].plot(history.history[\"val_loss\"], label=\"test error\")\n",
    "    axs[1].set_ylabel(\"Error\")\n",
    "    axs[1].set_xlabel(\"Epoch\")\n",
    "    axs[1].legend(loc=\"upper right\")\n",
    "    axs[1].set_title(\"Error eval\")\n",
    "    \n",
    "    plt.show()"
   ]
  },
  {
   "cell_type": "code",
   "execution_count": null,
   "metadata": {
    "colab": {
     "base_uri": "https://localhost:8080/",
     "height": 295
    },
    "executionInfo": {
     "elapsed": 3066,
     "status": "ok",
     "timestamp": 1632445879511,
     "user": {
      "displayName": "enahoro elomena",
      "photoUrl": "https://lh3.googleusercontent.com/a-/AOh14Gh0U4QooGrK8rUieqJ-6hRIoY4h_p5gaYSFsJNSIQ=s64",
      "userId": "08032915123829835974"
     },
     "user_tz": -60
    },
    "id": "0bNkQQHGHBdH",
    "outputId": "0108e5ea-b958-44b3-fd1f-a675cb29d1d0"
   },
   "outputs": [],
   "source": [
    "plot_history(model_history)"
   ]
  },
  {
   "cell_type": "code",
   "execution_count": null,
   "metadata": {
    "colab": {
     "base_uri": "https://localhost:8080/",
     "height": 101
    },
    "executionInfo": {
     "elapsed": 43,
     "status": "ok",
     "timestamp": 1632445879512,
     "user": {
      "displayName": "enahoro elomena",
      "photoUrl": "https://lh3.googleusercontent.com/a-/AOh14Gh0U4QooGrK8rUieqJ-6hRIoY4h_p5gaYSFsJNSIQ=s64",
      "userId": "08032915123829835974"
     },
     "user_tz": -60
    },
    "id": "EwahfGyxouKz",
    "outputId": "5cc35a63-bff6-4c34-a0d9-02c8bc371d5d"
   },
   "outputs": [],
   "source": [
    "data_smple = data.sample()\n",
    "data_smple"
   ]
  },
  {
   "cell_type": "code",
   "execution_count": null,
   "metadata": {
    "colab": {
     "base_uri": "https://localhost:8080/"
    },
    "executionInfo": {
     "elapsed": 42,
     "status": "ok",
     "timestamp": 1632445879514,
     "user": {
      "displayName": "enahoro elomena",
      "photoUrl": "https://lh3.googleusercontent.com/a-/AOh14Gh0U4QooGrK8rUieqJ-6hRIoY4h_p5gaYSFsJNSIQ=s64",
      "userId": "08032915123829835974"
     },
     "user_tz": -60
    },
    "id": "DKhNXsadGu7m",
    "outputId": "131b7c16-e66c-4d6d-bdbd-9162049043ef"
   },
   "outputs": [],
   "source": [
    "pred_val = data_smple.iloc[:,1:-1]\n",
    "pred_val1 = sc.transform(pred_val)\n",
    "pred_val1"
   ]
  },
  {
   "cell_type": "code",
   "execution_count": null,
   "metadata": {
    "colab": {
     "base_uri": "https://localhost:8080/"
    },
    "executionInfo": {
     "elapsed": 36,
     "status": "ok",
     "timestamp": 1632445879515,
     "user": {
      "displayName": "enahoro elomena",
      "photoUrl": "https://lh3.googleusercontent.com/a-/AOh14Gh0U4QooGrK8rUieqJ-6hRIoY4h_p5gaYSFsJNSIQ=s64",
      "userId": "08032915123829835974"
     },
     "user_tz": -60
    },
    "id": "Ue2P6DOAHS2N",
    "outputId": "7dda7365-3903-4070-c85f-dd2858ffb8b1"
   },
   "outputs": [],
   "source": [
    "preds = model.predict(pred_val1)\n",
    "predic = np.argmax(preds, axis=1)\n",
    "predic"
   ]
  },
  {
   "cell_type": "code",
   "execution_count": null,
   "metadata": {
    "id": "xA7TOLRvHTaX"
   },
   "outputs": [],
   "source": [
    "predic1 = int(predic)\n",
    "result = le_label.inverse_transform([predic1])"
   ]
  },
  {
   "cell_type": "code",
   "execution_count": null,
   "metadata": {
    "colab": {
     "base_uri": "https://localhost:8080/"
    },
    "executionInfo": {
     "elapsed": 34,
     "status": "ok",
     "timestamp": 1632445879518,
     "user": {
      "displayName": "enahoro elomena",
      "photoUrl": "https://lh3.googleusercontent.com/a-/AOh14Gh0U4QooGrK8rUieqJ-6hRIoY4h_p5gaYSFsJNSIQ=s64",
      "userId": "08032915123829835974"
     },
     "user_tz": -60
    },
    "id": "h5hpq_EKGvFa",
    "outputId": "d07b5201-b2ef-45ea-ff05-7a0f29da9efb"
   },
   "outputs": [],
   "source": [
    "print(result)"
   ]
  },
  {
   "cell_type": "markdown",
   "metadata": {
    "id": "9mYmZw4qBIk_"
   },
   "source": [
    "saving the artifical neural network model because it performed better."
   ]
  },
  {
   "cell_type": "code",
   "execution_count": null,
   "metadata": {
    "id": "RIHx9q3MTR_H"
   },
   "outputs": [],
   "source": [
    "model.save(\"music_model.h5\")"
   ]
  },
  {
   "cell_type": "code",
   "execution_count": null,
   "metadata": {
    "id": "OUEvK12RFiL2"
   },
   "outputs": [],
   "source": [
    "import pickle\n",
    "\n",
    "cnn_model = {}\n",
    "cnn_model[\"label\"] = le_label\n",
    "cnn_model[\"Standard_Scalar\"] = sc\n",
    "\n",
    "with open(\"capstone.pkl\", \"wb\") as f:\n",
    "  pickle.dump(cnn_model, f)"
   ]
  },
  {
   "cell_type": "code",
   "execution_count": null,
   "metadata": {
    "id": "sq_ZV4VsZAxY"
   },
   "outputs": [],
   "source": []
  },
  {
   "cell_type": "code",
   "execution_count": null,
   "metadata": {
    "id": "fAT-FIfkxLuW"
   },
   "outputs": [],
   "source": [
    "'chroma_stft_mean', 'chroma_stft_var', 'chroma_stft_std', 'rms_mean', \n",
    "                             'rms_var', 'rms_std', 'spec_cent_mean', 'spec_cent_var', 'spec_cent_std', 'spec_ban_mean', \n",
    "                             'spec_ban_var', 'spec_ban_std', 'spec_cons_mean', 'spec_cons_var', 'spec_cons_std', 'spec_flat_mean', \n",
    "                             'spec_flat_var', 'spec_flat_std', 'spec_roll_mean', 'spec_roll_var', 'spec_roll_std', 'zero_cros_mean', \n",
    "                             'zero_cros_var', 'zero_cros_std', 'Tempo', 'Beat_mean', 'Beat_var', 'Beat_std', \n",
    "                             'mfcc1_mean', 'mfcc1_var', 'mfcc2_mean', 'mfcc2_var', 'mfcc3_mean', 'mfcc3_var', 'mfcc4_mean', 'mfcc4_var', \n",
    "                             'mfcc5_mean', 'mfcc5_var', 'mfcc6_mean', 'mfcc6_var', 'mfcc7_mean', 'mfcc7_var', 'mfcc8_mean', 'mfcc8_var',\n",
    "                             'mfcc9_mean', 'mfcc9_var', 'mfcc10_mean', 'mfcc10_var', 'mfcc20_mean', 'mfcc20_var', 'label'))\n"
   ]
  },
  {
   "cell_type": "code",
   "execution_count": null,
   "metadata": {
    "executionInfo": {
     "elapsed": 7,
     "status": "ok",
     "timestamp": 1644491623913,
     "user": {
      "displayName": "enahoro elomena",
      "photoUrl": "https://lh3.googleusercontent.com/a-/AOh14Gh0U4QooGrK8rUieqJ-6hRIoY4h_p5gaYSFsJNSIQ=s64",
      "userId": "08032915123829835974"
     },
     "user_tz": -60
    },
    "id": "OGkZCJ5Rwk6D"
   },
   "outputs": [],
   "source": [
    "def preprocess(file):\n",
    "  y, sr = librosa.load(file, duration=30)\n",
    "\n",
    "  #data0 = []\n",
    "  #defining the Chroma features in the dataframe\n",
    "  chroma = librosa.feature.chroma_stft(y=y, sr=sr)\n",
    "  chroma_stft_mean = chroma.mean()#chroma_stft_mean\n",
    "  chroma_stft_var = chroma.var()#chroma_stft_var\n",
    "  chroma_stft_std = chroma.std()#chroma_stft_std\n",
    "\n",
    "  #defining the rms features in the dataframe\n",
    "  rms = librosa.feature.rms(y=y)\n",
    "  rms_mean = rms.mean()#rms_mean\n",
    "  rms_var = rms.var()#rms_var\n",
    "  rms_std = rms.std()#rms_std\n",
    "\n",
    "  #defining the spectral centroid features in the dataframe\n",
    "  cent = librosa.feature.spectral_centroid(y=y, sr=sr)\n",
    "  spec_cent_mean = cent.mean()#spec_cent_mean\n",
    "  spec_cent_var = cent.var()#spec_cent_var\n",
    "  spec_cent_std = cent.std()#spec_cent_std\n",
    "\n",
    "  #defining the spectral bandwidth features in the dataframe\n",
    "  spec_bw = librosa.feature.spectral_bandwidth(y=y, sr=sr)\n",
    "  spec_ban_mean = spec_bw.mean()#spec_ban_mean\n",
    "  spec_ban_var = spec_bw.var()#spec_ban_var\n",
    "  spec_ban_std = spec_bw.std()#spec_ban_std\n",
    "\n",
    "  #defining the spectral constract features in the dataframe\n",
    "  S = np.abs(librosa.stft(y))\n",
    "  contrast = librosa.feature.spectral_contrast(S=S, sr=sr)\n",
    "  spec_cons_mean = contrast.mean()#spec_cons_mean\n",
    "  spec_cons_var = contrast.var()#spec_cons_var\n",
    "  spec_cons_std = contrast.std()#spec_cons_std\n",
    "\n",
    "  #defining the spectral flatness features in the dataframe\n",
    "  flatness = librosa.feature.spectral_flatness(y=y)\n",
    "  spec_flat_mean = flatness.mean()#spec_flat_mean\n",
    "  spec_flat_var = flatness.var()#spec_flat_var\n",
    "  spec_flat_std = flatness.std()#spec_flat_std\n",
    "\n",
    "  #defining the mel frequency cepstrum coefficient features in the dataframe\n",
    "  mfcc1 = librosa.feature.mfcc(y=y, sr=sr, n_mfcc=1)#n_mfcc=1\n",
    "  mfcc1_mean = mfcc1.mean()#mfcc1_mean\n",
    "  mfcc1_var = mfcc1.var()#mfcc1_var\n",
    "\n",
    "  mfcc2 = librosa.feature.mfcc(y=y, sr=sr, n_mfcc=2)#n_mfcc=2\n",
    "  mfcc2_mean = mfcc2.mean()#mfcc2_mean\n",
    "  mfcc2_var = mfcc2.var()#mfcc2_var\n",
    "\n",
    "  mfcc3 = librosa.feature.mfcc(y=y, sr=sr, n_mfcc=3)#n_mfcc=3\n",
    "  mfcc3_mean = mfcc3.mean()#mfcc3_mean\n",
    "  mfcc3_var = mfcc3.var()#mfcc3_var\n",
    "\n",
    "  mfcc4 = librosa.feature.mfcc(y=y, sr=sr, n_mfcc=4)#n_mfcc=4\n",
    "  mfcc4_mean = mfcc4.mean()#mfcc4_mean\n",
    "  mfcc4_var = mfcc4.var()#mfcc4_var\n",
    "\n",
    "  mfcc5 = librosa.feature.mfcc(y=y, sr=sr, n_mfcc=5)#n_mfcc=5\n",
    "  mfcc5_mean = mfcc5.mean()#mfcc5_mean\n",
    "  mfcc5_var = mfcc5.var()#mfcc5_var\n",
    "\n",
    "  mfcc6 = librosa.feature.mfcc(y=y, sr=sr, n_mfcc=6)#n_mfcc=6\n",
    "  mfcc6_mean = mfcc6.mean()#mfcc6_mean\n",
    "  mfcc6_var = mfcc6.var()#mfcc6_var\n",
    "\n",
    "  mfcc7 = librosa.feature.mfcc(y=y, sr=sr, n_mfcc=7)#n_mfcc=7\n",
    "  mfcc7_mean = mfcc7.mean()#mfcc7_mean\n",
    "  mfcc7_var = mfcc7.var()#mfcc7_var\n",
    "\n",
    "  mfcc8 = librosa.feature.mfcc(y=y, sr=sr, n_mfcc=8)#n_mfcc=8\n",
    "  mfcc8_mean = mfcc8.mean()#mfcc8_mean\n",
    "  mfcc8_var = mfcc8.var()#mfcc8_var\n",
    "\n",
    "  mfcc9 = librosa.feature.mfcc(y=y, sr=sr, n_mfcc=9)#n_mfcc=9\n",
    "  mfcc9_mean = mfcc9.mean()#mfcc9_mean\n",
    "  mfcc9_var = mfcc9.var()#mfcc9_var\n",
    "\n",
    "  mfcc10 = librosa.feature.mfcc(y=y, sr=sr, n_mfcc=10)#n_mfcc=10\n",
    "  mfcc10_mean = mfcc10.mean()#mfcc10_mean\n",
    "  mfcc10_var = mfcc10.var()#mfcc10_var\n",
    "\n",
    "  mfcc20 = librosa.feature.mfcc(y=y, sr=sr)#n_mfcc=20\n",
    "  mfcc20_mean = mfcc20.mean()#mfcc20_mean\n",
    "  mfcc20_var = mfcc20.var()#mfcc20_var\n",
    "\n",
    "  #defining the spectral roll-off features in the dataframe\n",
    "  rolloff = librosa.feature.spectral_rolloff(y=y, sr=sr)\n",
    "  spec_roll_mean = rolloff.mean()#spec_roll_mean\n",
    "  spec_roll_var = rolloff.var()#spec_roll_var\n",
    "  spec_roll_std = rolloff.std()#spec_roll_std\n",
    "\n",
    "  #defining the zero crossing rate features in the dataframe\n",
    "  zero_crosing_rate = librosa.feature.zero_crossing_rate(y)\n",
    "  zero_cros_mean = zero_crosing_rate.mean()#zero_cros_mean\n",
    "  zero_cros_var = zero_crosing_rate.var()#zero_cros_var\n",
    "  zero_cros_std = zero_crosing_rate.std()#zero_cros_std\n",
    "\n",
    "  #defining the Tempo feature in the dataframe\n",
    "  onset_env = librosa.onset.onset_strength(y=y, sr=sr)\n",
    "  tempo = librosa.beat.tempo(onset_envelope=onset_env, sr=sr)\n",
    "  Tempo = tempo.mean()#Tempo\n",
    "\n",
    "  #defining the Beat feature in the dataframe\n",
    "  tempo, beats = librosa.beat.beat_track(y=y, sr=sr)\n",
    "  beat = librosa.frames_to_time(beats, sr=sr)#changing the beats to timestamps\n",
    "  Beat_mean = beat.mean()#Beat_var\n",
    "  Beat_var = beat.var()#Beat_var\n",
    "  Beat_std = beat.std()#Beat_std\n",
    "      \n",
    "  data0 = [[chroma_stft_mean, chroma_stft_var, chroma_stft_std, rms_mean, rms_var, rms_std, spec_cent_mean, spec_cent_var, spec_cent_std, \n",
    "                 spec_ban_mean, spec_ban_var, spec_ban_std, spec_cons_mean, spec_cons_var, spec_cons_std, \n",
    "                 spec_flat_mean, spec_flat_var, spec_flat_std, spec_roll_mean, spec_roll_var, spec_roll_std, \n",
    "                 zero_cros_mean, zero_cros_var, zero_cros_std, Tempo, Beat_mean, Beat_var, Beat_std, mfcc1_mean, mfcc1_var, mfcc2_mean, mfcc2_var, \n",
    "                 mfcc3_mean, mfcc3_var, mfcc4_mean, mfcc4_var, mfcc5_mean, mfcc5_var, mfcc6_mean, mfcc6_var, mfcc7_mean, mfcc7_var, mfcc8_mean, mfcc8_var, \n",
    "                 mfcc9_mean, mfcc9_var, mfcc10_mean, mfcc10_var, mfcc20_mean, mfcc20_var]]\n",
    "  #\n",
    "  return data0"
   ]
  },
  {
   "cell_type": "code",
   "execution_count": null,
   "metadata": {
    "executionInfo": {
     "elapsed": 6,
     "status": "ok",
     "timestamp": 1644491623914,
     "user": {
      "displayName": "enahoro elomena",
      "photoUrl": "https://lh3.googleusercontent.com/a-/AOh14Gh0U4QooGrK8rUieqJ-6hRIoY4h_p5gaYSFsJNSIQ=s64",
      "userId": "08032915123829835974"
     },
     "user_tz": -60
    },
    "id": "n8zSCotDzD0w"
   },
   "outputs": [],
   "source": [
    "def predict(data0, sc, model, le_label):\n",
    "  data0 = sc.transform(data0)\n",
    "  prediction = model.predict(data0)\n",
    "  pred = np.argmax(prediction, axis=1)\n",
    "  pred = int(pred)\n",
    "  result = le_label.inverse_transform([pred])\n",
    "  print(result)"
   ]
  },
  {
   "cell_type": "code",
   "execution_count": null,
   "metadata": {
    "executionInfo": {
     "elapsed": 1722,
     "status": "ok",
     "timestamp": 1644491698424,
     "user": {
      "displayName": "enahoro elomena",
      "photoUrl": "https://lh3.googleusercontent.com/a-/AOh14Gh0U4QooGrK8rUieqJ-6hRIoY4h_p5gaYSFsJNSIQ=s64",
      "userId": "08032915123829835974"
     },
     "user_tz": -60
    },
    "id": "H4K2Btx5Wp2e"
   },
   "outputs": [],
   "source": [
    "# It can be used to reconstruct the model identically.\n",
    "l_model = keras.models.load_model(\"music_model.h5\")"
   ]
  },
  {
   "cell_type": "code",
   "execution_count": null,
   "metadata": {
    "colab": {
     "base_uri": "https://localhost:8080/"
    },
    "executionInfo": {
     "elapsed": 365,
     "status": "ok",
     "timestamp": 1644491704715,
     "user": {
      "displayName": "enahoro elomena",
      "photoUrl": "https://lh3.googleusercontent.com/a-/AOh14Gh0U4QooGrK8rUieqJ-6hRIoY4h_p5gaYSFsJNSIQ=s64",
      "userId": "08032915123829835974"
     },
     "user_tz": -60
    },
    "id": "bBX2yUcIBFrO",
    "outputId": "932978b6-c310-47a6-ce08-5922ca0e6f37"
   },
   "outputs": [],
   "source": [
    "# load the model\n",
    "with open(\"/content/drive/MyDrive/Colab Notebooks/Stutern Capstone/capstone.pkl\", \"rb\") as f:\n",
    "    loaded_model = pickle.load(f)"
   ]
  },
  {
   "cell_type": "code",
   "execution_count": null,
   "metadata": {
    "executionInfo": {
     "elapsed": 468,
     "status": "ok",
     "timestamp": 1644491714112,
     "user": {
      "displayName": "enahoro elomena",
      "photoUrl": "https://lh3.googleusercontent.com/a-/AOh14Gh0U4QooGrK8rUieqJ-6hRIoY4h_p5gaYSFsJNSIQ=s64",
      "userId": "08032915123829835974"
     },
     "user_tz": -60
    },
    "id": "5-bbe2-tBgxz"
   },
   "outputs": [],
   "source": [
    "lle_label = loaded_model[\"label\"]  # label encoder\n",
    "Standard_Scalar = loaded_model[\"Standard_Scalar\"]  # Standard scalar"
   ]
  },
  {
   "cell_type": "code",
   "execution_count": null,
   "metadata": {
    "colab": {
     "base_uri": "https://localhost:8080/"
    },
    "executionInfo": {
     "elapsed": 6706,
     "status": "ok",
     "timestamp": 1644492902176,
     "user": {
      "displayName": "enahoro elomena",
      "photoUrl": "https://lh3.googleusercontent.com/a-/AOh14Gh0U4QooGrK8rUieqJ-6hRIoY4h_p5gaYSFsJNSIQ=s64",
      "userId": "08032915123829835974"
     },
     "user_tz": -60
    },
    "id": "4sS43htMXez2",
    "outputId": "e6e01c44-fe14-4bf7-b977-1700d6ffe6b8"
   },
   "outputs": [],
   "source": [
    "data_new = preprocess(\"high-stakes-783.mp3\")\n",
    "data_new"
   ]
  },
  {
   "cell_type": "code",
   "execution_count": null,
   "metadata": {
    "colab": {
     "base_uri": "https://localhost:8080/"
    },
    "executionInfo": {
     "elapsed": 338,
     "status": "ok",
     "timestamp": 1632446372845,
     "user": {
      "displayName": "enahoro elomena",
      "photoUrl": "https://lh3.googleusercontent.com/a-/AOh14Gh0U4QooGrK8rUieqJ-6hRIoY4h_p5gaYSFsJNSIQ=s64",
      "userId": "08032915123829835974"
     },
     "user_tz": -60
    },
    "id": "xX38R4uMYhf6",
    "outputId": "c11be1af-5441-4501-b997-6ea2786fbdeb"
   },
   "outputs": [],
   "source": [
    "data_new = np.array(data_new)\n",
    "data_new.shape"
   ]
  },
  {
   "cell_type": "code",
   "execution_count": null,
   "metadata": {
    "colab": {
     "base_uri": "https://localhost:8080/"
    },
    "executionInfo": {
     "elapsed": 513,
     "status": "ok",
     "timestamp": 1632446493544,
     "user": {
      "displayName": "enahoro elomena",
      "photoUrl": "https://lh3.googleusercontent.com/a-/AOh14Gh0U4QooGrK8rUieqJ-6hRIoY4h_p5gaYSFsJNSIQ=s64",
      "userId": "08032915123829835974"
     },
     "user_tz": -60
    },
    "id": "H0TwA5M5Bg_O",
    "outputId": "3687a3fb-3ee8-479b-a29b-2a1ddc39a998"
   },
   "outputs": [],
   "source": [
    "predict(data_new, Standard_Scalar, l_model, lle_label)"
   ]
  },
  {
   "cell_type": "code",
   "execution_count": null,
   "metadata": {
    "colab": {
     "base_uri": "https://localhost:8080/"
    },
    "executionInfo": {
     "elapsed": 5551,
     "status": "ok",
     "timestamp": 1632446591255,
     "user": {
      "displayName": "enahoro elomena",
      "photoUrl": "https://lh3.googleusercontent.com/a-/AOh14Gh0U4QooGrK8rUieqJ-6hRIoY4h_p5gaYSFsJNSIQ=s64",
      "userId": "08032915123829835974"
     },
     "user_tz": -60
    },
    "id": "VcJUYfOfZOWO",
    "outputId": "fa0650b1-f99b-4cd6-85d1-c1e292d94aa6"
   },
   "outputs": [],
   "source": [
    "data_2 = preprocess(\"/content/drive/MyDrive/Colab Notebooks/Stutern Capstone/rubinstein-melody-in-f-remix-harmonica-7403.mp3\")\n",
    "data_2"
   ]
  },
  {
   "cell_type": "code",
   "execution_count": null,
   "metadata": {
    "colab": {
     "base_uri": "https://localhost:8080/"
    },
    "executionInfo": {
     "elapsed": 553,
     "status": "ok",
     "timestamp": 1632446622553,
     "user": {
      "displayName": "enahoro elomena",
      "photoUrl": "https://lh3.googleusercontent.com/a-/AOh14Gh0U4QooGrK8rUieqJ-6hRIoY4h_p5gaYSFsJNSIQ=s64",
      "userId": "08032915123829835974"
     },
     "user_tz": -60
    },
    "id": "7BWCqzIFZj3O",
    "outputId": "644e6448-0738-44b4-eb75-72df4e8fe444"
   },
   "outputs": [],
   "source": [
    "data_2 = np.array(data_2)\n",
    "data_2.shape"
   ]
  },
  {
   "cell_type": "code",
   "execution_count": null,
   "metadata": {
    "colab": {
     "base_uri": "https://localhost:8080/"
    },
    "executionInfo": {
     "elapsed": 349,
     "status": "ok",
     "timestamp": 1632446644448,
     "user": {
      "displayName": "enahoro elomena",
      "photoUrl": "https://lh3.googleusercontent.com/a-/AOh14Gh0U4QooGrK8rUieqJ-6hRIoY4h_p5gaYSFsJNSIQ=s64",
      "userId": "08032915123829835974"
     },
     "user_tz": -60
    },
    "id": "OCnzDBlPZtNO",
    "outputId": "49ba9b64-ef24-45d1-bd01-8123c2bd0995"
   },
   "outputs": [],
   "source": [
    "predict(data_2, Standard_Scalar, l_model, lle_label)"
   ]
  }
 ],
 "metadata": {
  "colab": {
   "authorship_tag": "ABX9TyNmD1PZoC5Ls78QHOf6VWmG",
   "collapsed_sections": [],
   "mount_file_id": "1uhHS2Gk1MVNdZdrSr4SohyDZyfciXPqm",
   "name": "Music-Genre-Classification-Model.ipynb",
   "provenance": []
  },
  "kernelspec": {
   "display_name": "Python 3",
   "language": "python",
   "name": "python3"
  },
  "language_info": {
   "codemirror_mode": {
    "name": "ipython",
    "version": 3
   },
   "file_extension": ".py",
   "mimetype": "text/x-python",
   "name": "python",
   "nbconvert_exporter": "python",
   "pygments_lexer": "ipython3",
   "version": "3.8.8"
  }
 },
 "nbformat": 4,
 "nbformat_minor": 1
}
